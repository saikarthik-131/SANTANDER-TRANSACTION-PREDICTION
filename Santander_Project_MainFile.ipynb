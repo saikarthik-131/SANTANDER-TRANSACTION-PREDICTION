{
 "cells": [
  {
   "cell_type": "markdown",
   "metadata": {},
   "source": [
    "# LOADING  LIBRARIES IN PYTHON"
   ]
  },
  {
   "cell_type": "code",
   "execution_count": 2,
   "metadata": {},
   "outputs": [],
   "source": [
    "import pandas as pd \n",
    "import numpy as np\n",
    "import matplotlib.pyplot as plt\n",
    "import seaborn as sns\n",
    "import os\n",
    "#from fancyimpute import KNN\n",
    "from random import randrange, uniform\n",
    "from scipy.stats import chi2_contingency\n",
    "%matplotlib inline"
   ]
  },
  {
   "cell_type": "code",
   "execution_count": null,
   "metadata": {},
   "outputs": [],
   "source": [
    "# SETTING THE WORKING DIRECTORY"
   ]
  },
  {
   "cell_type": "code",
   "execution_count": 3,
   "metadata": {},
   "outputs": [
    {
     "data": {
      "text/plain": [
       "'D:\\\\Project\\\\Inputfiles'"
      ]
     },
     "execution_count": 3,
     "metadata": {},
     "output_type": "execute_result"
    }
   ],
   "source": [
    "#set working directory\n",
    "os.chdir(\"D:\\Project\\Inputfiles\")\n",
    "os.getcwd()"
   ]
  },
  {
   "cell_type": "code",
   "execution_count": 4,
   "metadata": {},
   "outputs": [],
   "source": [
    "#Load training data\n",
    "santander_data_train = pd.read_csv(\"train.csv\",sep=\",\")"
   ]
  },
  {
   "cell_type": "code",
   "execution_count": 6,
   "metadata": {},
   "outputs": [
    {
     "data": {
      "text/html": [
       "<div>\n",
       "<style scoped>\n",
       "    .dataframe tbody tr th:only-of-type {\n",
       "        vertical-align: middle;\n",
       "    }\n",
       "\n",
       "    .dataframe tbody tr th {\n",
       "        vertical-align: top;\n",
       "    }\n",
       "\n",
       "    .dataframe thead th {\n",
       "        text-align: right;\n",
       "    }\n",
       "</style>\n",
       "<table border=\"1\" class=\"dataframe\">\n",
       "  <thead>\n",
       "    <tr style=\"text-align: right;\">\n",
       "      <th></th>\n",
       "      <th>ID_code</th>\n",
       "      <th>target</th>\n",
       "      <th>var_0</th>\n",
       "      <th>var_1</th>\n",
       "      <th>var_2</th>\n",
       "      <th>var_3</th>\n",
       "      <th>var_4</th>\n",
       "      <th>var_5</th>\n",
       "      <th>var_6</th>\n",
       "      <th>var_7</th>\n",
       "      <th>...</th>\n",
       "      <th>var_190</th>\n",
       "      <th>var_191</th>\n",
       "      <th>var_192</th>\n",
       "      <th>var_193</th>\n",
       "      <th>var_194</th>\n",
       "      <th>var_195</th>\n",
       "      <th>var_196</th>\n",
       "      <th>var_197</th>\n",
       "      <th>var_198</th>\n",
       "      <th>var_199</th>\n",
       "    </tr>\n",
       "  </thead>\n",
       "  <tbody>\n",
       "    <tr>\n",
       "      <th>0</th>\n",
       "      <td>train_0</td>\n",
       "      <td>0</td>\n",
       "      <td>8.9255</td>\n",
       "      <td>-6.7863</td>\n",
       "      <td>11.9081</td>\n",
       "      <td>5.0930</td>\n",
       "      <td>11.4607</td>\n",
       "      <td>-9.2834</td>\n",
       "      <td>5.1187</td>\n",
       "      <td>18.6266</td>\n",
       "      <td>...</td>\n",
       "      <td>4.4354</td>\n",
       "      <td>3.9642</td>\n",
       "      <td>3.1364</td>\n",
       "      <td>1.6910</td>\n",
       "      <td>18.5227</td>\n",
       "      <td>-2.3978</td>\n",
       "      <td>7.8784</td>\n",
       "      <td>8.5635</td>\n",
       "      <td>12.7803</td>\n",
       "      <td>-1.0914</td>\n",
       "    </tr>\n",
       "    <tr>\n",
       "      <th>1</th>\n",
       "      <td>train_1</td>\n",
       "      <td>0</td>\n",
       "      <td>11.5006</td>\n",
       "      <td>-4.1473</td>\n",
       "      <td>13.8588</td>\n",
       "      <td>5.3890</td>\n",
       "      <td>12.3622</td>\n",
       "      <td>7.0433</td>\n",
       "      <td>5.6208</td>\n",
       "      <td>16.5338</td>\n",
       "      <td>...</td>\n",
       "      <td>7.6421</td>\n",
       "      <td>7.7214</td>\n",
       "      <td>2.5837</td>\n",
       "      <td>10.9516</td>\n",
       "      <td>15.4305</td>\n",
       "      <td>2.0339</td>\n",
       "      <td>8.1267</td>\n",
       "      <td>8.7889</td>\n",
       "      <td>18.3560</td>\n",
       "      <td>1.9518</td>\n",
       "    </tr>\n",
       "    <tr>\n",
       "      <th>2</th>\n",
       "      <td>train_2</td>\n",
       "      <td>0</td>\n",
       "      <td>8.6093</td>\n",
       "      <td>-2.7457</td>\n",
       "      <td>12.0805</td>\n",
       "      <td>7.8928</td>\n",
       "      <td>10.5825</td>\n",
       "      <td>-9.0837</td>\n",
       "      <td>6.9427</td>\n",
       "      <td>14.6155</td>\n",
       "      <td>...</td>\n",
       "      <td>2.9057</td>\n",
       "      <td>9.7905</td>\n",
       "      <td>1.6704</td>\n",
       "      <td>1.6858</td>\n",
       "      <td>21.6042</td>\n",
       "      <td>3.1417</td>\n",
       "      <td>-6.5213</td>\n",
       "      <td>8.2675</td>\n",
       "      <td>14.7222</td>\n",
       "      <td>0.3965</td>\n",
       "    </tr>\n",
       "    <tr>\n",
       "      <th>3</th>\n",
       "      <td>train_3</td>\n",
       "      <td>0</td>\n",
       "      <td>11.0604</td>\n",
       "      <td>-2.1518</td>\n",
       "      <td>8.9522</td>\n",
       "      <td>7.1957</td>\n",
       "      <td>12.5846</td>\n",
       "      <td>-1.8361</td>\n",
       "      <td>5.8428</td>\n",
       "      <td>14.9250</td>\n",
       "      <td>...</td>\n",
       "      <td>4.4666</td>\n",
       "      <td>4.7433</td>\n",
       "      <td>0.7178</td>\n",
       "      <td>1.4214</td>\n",
       "      <td>23.0347</td>\n",
       "      <td>-1.2706</td>\n",
       "      <td>-2.9275</td>\n",
       "      <td>10.2922</td>\n",
       "      <td>17.9697</td>\n",
       "      <td>-8.9996</td>\n",
       "    </tr>\n",
       "    <tr>\n",
       "      <th>4</th>\n",
       "      <td>train_4</td>\n",
       "      <td>0</td>\n",
       "      <td>9.8369</td>\n",
       "      <td>-1.4834</td>\n",
       "      <td>12.8746</td>\n",
       "      <td>6.6375</td>\n",
       "      <td>12.2772</td>\n",
       "      <td>2.4486</td>\n",
       "      <td>5.9405</td>\n",
       "      <td>19.2514</td>\n",
       "      <td>...</td>\n",
       "      <td>-1.4905</td>\n",
       "      <td>9.5214</td>\n",
       "      <td>-0.1508</td>\n",
       "      <td>9.1942</td>\n",
       "      <td>13.2876</td>\n",
       "      <td>-1.5121</td>\n",
       "      <td>3.9267</td>\n",
       "      <td>9.5031</td>\n",
       "      <td>17.9974</td>\n",
       "      <td>-8.8104</td>\n",
       "    </tr>\n",
       "  </tbody>\n",
       "</table>\n",
       "<p>5 rows × 202 columns</p>\n",
       "</div>"
      ],
      "text/plain": [
       "   ID_code  target    var_0   var_1    var_2   var_3    var_4   var_5   var_6  \\\n",
       "0  train_0       0   8.9255 -6.7863  11.9081  5.0930  11.4607 -9.2834  5.1187   \n",
       "1  train_1       0  11.5006 -4.1473  13.8588  5.3890  12.3622  7.0433  5.6208   \n",
       "2  train_2       0   8.6093 -2.7457  12.0805  7.8928  10.5825 -9.0837  6.9427   \n",
       "3  train_3       0  11.0604 -2.1518   8.9522  7.1957  12.5846 -1.8361  5.8428   \n",
       "4  train_4       0   9.8369 -1.4834  12.8746  6.6375  12.2772  2.4486  5.9405   \n",
       "\n",
       "     var_7  ...  var_190  var_191  var_192  var_193  var_194  var_195  \\\n",
       "0  18.6266  ...   4.4354   3.9642   3.1364   1.6910  18.5227  -2.3978   \n",
       "1  16.5338  ...   7.6421   7.7214   2.5837  10.9516  15.4305   2.0339   \n",
       "2  14.6155  ...   2.9057   9.7905   1.6704   1.6858  21.6042   3.1417   \n",
       "3  14.9250  ...   4.4666   4.7433   0.7178   1.4214  23.0347  -1.2706   \n",
       "4  19.2514  ...  -1.4905   9.5214  -0.1508   9.1942  13.2876  -1.5121   \n",
       "\n",
       "   var_196  var_197  var_198  var_199  \n",
       "0   7.8784   8.5635  12.7803  -1.0914  \n",
       "1   8.1267   8.7889  18.3560   1.9518  \n",
       "2  -6.5213   8.2675  14.7222   0.3965  \n",
       "3  -2.9275  10.2922  17.9697  -8.9996  \n",
       "4   3.9267   9.5031  17.9974  -8.8104  \n",
       "\n",
       "[5 rows x 202 columns]"
      ]
     },
     "execution_count": 6,
     "metadata": {},
     "output_type": "execute_result"
    }
   ],
   "source": [
    "santander_data_train.head(5)"
   ]
  },
  {
   "cell_type": "markdown",
   "metadata": {},
   "source": [
    "# EXPLORATORY DATA ANALYSIS"
   ]
  },
  {
   "cell_type": "code",
   "execution_count": 7,
   "metadata": {},
   "outputs": [
    {
     "data": {
      "text/plain": [
       "(200000, 202)"
      ]
     },
     "execution_count": 7,
     "metadata": {},
     "output_type": "execute_result"
    }
   ],
   "source": [
    "santander_data_train.shape"
   ]
  },
  {
   "cell_type": "markdown",
   "metadata": {},
   "source": [
    "# The Data contains the huge set of 200000 observations and 200 variables"
   ]
  },
  {
   "cell_type": "code",
   "execution_count": 6,
   "metadata": {},
   "outputs": [
    {
     "data": {
      "text/html": [
       "<div>\n",
       "<style scoped>\n",
       "    .dataframe tbody tr th:only-of-type {\n",
       "        vertical-align: middle;\n",
       "    }\n",
       "\n",
       "    .dataframe tbody tr th {\n",
       "        vertical-align: top;\n",
       "    }\n",
       "\n",
       "    .dataframe thead th {\n",
       "        text-align: right;\n",
       "    }\n",
       "</style>\n",
       "<table border=\"1\" class=\"dataframe\">\n",
       "  <thead>\n",
       "    <tr style=\"text-align: right;\">\n",
       "      <th></th>\n",
       "      <th>target</th>\n",
       "      <th>var_0</th>\n",
       "      <th>var_1</th>\n",
       "      <th>var_2</th>\n",
       "      <th>var_3</th>\n",
       "      <th>var_4</th>\n",
       "      <th>var_5</th>\n",
       "      <th>var_6</th>\n",
       "      <th>var_7</th>\n",
       "      <th>var_8</th>\n",
       "      <th>...</th>\n",
       "      <th>var_190</th>\n",
       "      <th>var_191</th>\n",
       "      <th>var_192</th>\n",
       "      <th>var_193</th>\n",
       "      <th>var_194</th>\n",
       "      <th>var_195</th>\n",
       "      <th>var_196</th>\n",
       "      <th>var_197</th>\n",
       "      <th>var_198</th>\n",
       "      <th>var_199</th>\n",
       "    </tr>\n",
       "  </thead>\n",
       "  <tbody>\n",
       "    <tr>\n",
       "      <th>count</th>\n",
       "      <td>200000.000000</td>\n",
       "      <td>200000.000000</td>\n",
       "      <td>200000.000000</td>\n",
       "      <td>200000.000000</td>\n",
       "      <td>200000.000000</td>\n",
       "      <td>200000.000000</td>\n",
       "      <td>200000.000000</td>\n",
       "      <td>200000.000000</td>\n",
       "      <td>200000.000000</td>\n",
       "      <td>200000.000000</td>\n",
       "      <td>...</td>\n",
       "      <td>200000.000000</td>\n",
       "      <td>200000.000000</td>\n",
       "      <td>200000.000000</td>\n",
       "      <td>200000.000000</td>\n",
       "      <td>200000.000000</td>\n",
       "      <td>200000.000000</td>\n",
       "      <td>200000.000000</td>\n",
       "      <td>200000.000000</td>\n",
       "      <td>200000.000000</td>\n",
       "      <td>200000.000000</td>\n",
       "    </tr>\n",
       "    <tr>\n",
       "      <th>mean</th>\n",
       "      <td>0.100490</td>\n",
       "      <td>10.679914</td>\n",
       "      <td>-1.627622</td>\n",
       "      <td>10.715192</td>\n",
       "      <td>6.796529</td>\n",
       "      <td>11.078333</td>\n",
       "      <td>-5.065317</td>\n",
       "      <td>5.408949</td>\n",
       "      <td>16.545850</td>\n",
       "      <td>0.284162</td>\n",
       "      <td>...</td>\n",
       "      <td>3.234440</td>\n",
       "      <td>7.438408</td>\n",
       "      <td>1.927839</td>\n",
       "      <td>3.331774</td>\n",
       "      <td>17.993784</td>\n",
       "      <td>-0.142088</td>\n",
       "      <td>2.303335</td>\n",
       "      <td>8.908158</td>\n",
       "      <td>15.870720</td>\n",
       "      <td>-3.326537</td>\n",
       "    </tr>\n",
       "    <tr>\n",
       "      <th>std</th>\n",
       "      <td>0.300653</td>\n",
       "      <td>3.040051</td>\n",
       "      <td>4.050044</td>\n",
       "      <td>2.640894</td>\n",
       "      <td>2.043319</td>\n",
       "      <td>1.623150</td>\n",
       "      <td>7.863267</td>\n",
       "      <td>0.866607</td>\n",
       "      <td>3.418076</td>\n",
       "      <td>3.332634</td>\n",
       "      <td>...</td>\n",
       "      <td>4.559922</td>\n",
       "      <td>3.023272</td>\n",
       "      <td>1.478423</td>\n",
       "      <td>3.992030</td>\n",
       "      <td>3.135162</td>\n",
       "      <td>1.429372</td>\n",
       "      <td>5.454369</td>\n",
       "      <td>0.921625</td>\n",
       "      <td>3.010945</td>\n",
       "      <td>10.438015</td>\n",
       "    </tr>\n",
       "    <tr>\n",
       "      <th>min</th>\n",
       "      <td>0.000000</td>\n",
       "      <td>0.408400</td>\n",
       "      <td>-15.043400</td>\n",
       "      <td>2.117100</td>\n",
       "      <td>-0.040200</td>\n",
       "      <td>5.074800</td>\n",
       "      <td>-32.562600</td>\n",
       "      <td>2.347300</td>\n",
       "      <td>5.349700</td>\n",
       "      <td>-10.505500</td>\n",
       "      <td>...</td>\n",
       "      <td>-14.093300</td>\n",
       "      <td>-2.691700</td>\n",
       "      <td>-3.814500</td>\n",
       "      <td>-11.783400</td>\n",
       "      <td>8.694400</td>\n",
       "      <td>-5.261000</td>\n",
       "      <td>-14.209600</td>\n",
       "      <td>5.960600</td>\n",
       "      <td>6.299300</td>\n",
       "      <td>-38.852800</td>\n",
       "    </tr>\n",
       "    <tr>\n",
       "      <th>25%</th>\n",
       "      <td>0.000000</td>\n",
       "      <td>8.453850</td>\n",
       "      <td>-4.740025</td>\n",
       "      <td>8.722475</td>\n",
       "      <td>5.254075</td>\n",
       "      <td>9.883175</td>\n",
       "      <td>-11.200350</td>\n",
       "      <td>4.767700</td>\n",
       "      <td>13.943800</td>\n",
       "      <td>-2.317800</td>\n",
       "      <td>...</td>\n",
       "      <td>-0.058825</td>\n",
       "      <td>5.157400</td>\n",
       "      <td>0.889775</td>\n",
       "      <td>0.584600</td>\n",
       "      <td>15.629800</td>\n",
       "      <td>-1.170700</td>\n",
       "      <td>-1.946925</td>\n",
       "      <td>8.252800</td>\n",
       "      <td>13.829700</td>\n",
       "      <td>-11.208475</td>\n",
       "    </tr>\n",
       "    <tr>\n",
       "      <th>50%</th>\n",
       "      <td>0.000000</td>\n",
       "      <td>10.524750</td>\n",
       "      <td>-1.608050</td>\n",
       "      <td>10.580000</td>\n",
       "      <td>6.825000</td>\n",
       "      <td>11.108250</td>\n",
       "      <td>-4.833150</td>\n",
       "      <td>5.385100</td>\n",
       "      <td>16.456800</td>\n",
       "      <td>0.393700</td>\n",
       "      <td>...</td>\n",
       "      <td>3.203600</td>\n",
       "      <td>7.347750</td>\n",
       "      <td>1.901300</td>\n",
       "      <td>3.396350</td>\n",
       "      <td>17.957950</td>\n",
       "      <td>-0.172700</td>\n",
       "      <td>2.408900</td>\n",
       "      <td>8.888200</td>\n",
       "      <td>15.934050</td>\n",
       "      <td>-2.819550</td>\n",
       "    </tr>\n",
       "    <tr>\n",
       "      <th>75%</th>\n",
       "      <td>0.000000</td>\n",
       "      <td>12.758200</td>\n",
       "      <td>1.358625</td>\n",
       "      <td>12.516700</td>\n",
       "      <td>8.324100</td>\n",
       "      <td>12.261125</td>\n",
       "      <td>0.924800</td>\n",
       "      <td>6.003000</td>\n",
       "      <td>19.102900</td>\n",
       "      <td>2.937900</td>\n",
       "      <td>...</td>\n",
       "      <td>6.406200</td>\n",
       "      <td>9.512525</td>\n",
       "      <td>2.949500</td>\n",
       "      <td>6.205800</td>\n",
       "      <td>20.396525</td>\n",
       "      <td>0.829600</td>\n",
       "      <td>6.556725</td>\n",
       "      <td>9.593300</td>\n",
       "      <td>18.064725</td>\n",
       "      <td>4.836800</td>\n",
       "    </tr>\n",
       "    <tr>\n",
       "      <th>max</th>\n",
       "      <td>1.000000</td>\n",
       "      <td>20.315000</td>\n",
       "      <td>10.376800</td>\n",
       "      <td>19.353000</td>\n",
       "      <td>13.188300</td>\n",
       "      <td>16.671400</td>\n",
       "      <td>17.251600</td>\n",
       "      <td>8.447700</td>\n",
       "      <td>27.691800</td>\n",
       "      <td>10.151300</td>\n",
       "      <td>...</td>\n",
       "      <td>18.440900</td>\n",
       "      <td>16.716500</td>\n",
       "      <td>8.402400</td>\n",
       "      <td>18.281800</td>\n",
       "      <td>27.928800</td>\n",
       "      <td>4.272900</td>\n",
       "      <td>18.321500</td>\n",
       "      <td>12.000400</td>\n",
       "      <td>26.079100</td>\n",
       "      <td>28.500700</td>\n",
       "    </tr>\n",
       "  </tbody>\n",
       "</table>\n",
       "<p>8 rows × 201 columns</p>\n",
       "</div>"
      ],
      "text/plain": [
       "              target          var_0          var_1          var_2  \\\n",
       "count  200000.000000  200000.000000  200000.000000  200000.000000   \n",
       "mean        0.100490      10.679914      -1.627622      10.715192   \n",
       "std         0.300653       3.040051       4.050044       2.640894   \n",
       "min         0.000000       0.408400     -15.043400       2.117100   \n",
       "25%         0.000000       8.453850      -4.740025       8.722475   \n",
       "50%         0.000000      10.524750      -1.608050      10.580000   \n",
       "75%         0.000000      12.758200       1.358625      12.516700   \n",
       "max         1.000000      20.315000      10.376800      19.353000   \n",
       "\n",
       "               var_3          var_4          var_5          var_6  \\\n",
       "count  200000.000000  200000.000000  200000.000000  200000.000000   \n",
       "mean        6.796529      11.078333      -5.065317       5.408949   \n",
       "std         2.043319       1.623150       7.863267       0.866607   \n",
       "min        -0.040200       5.074800     -32.562600       2.347300   \n",
       "25%         5.254075       9.883175     -11.200350       4.767700   \n",
       "50%         6.825000      11.108250      -4.833150       5.385100   \n",
       "75%         8.324100      12.261125       0.924800       6.003000   \n",
       "max        13.188300      16.671400      17.251600       8.447700   \n",
       "\n",
       "               var_7          var_8  ...        var_190        var_191  \\\n",
       "count  200000.000000  200000.000000  ...  200000.000000  200000.000000   \n",
       "mean       16.545850       0.284162  ...       3.234440       7.438408   \n",
       "std         3.418076       3.332634  ...       4.559922       3.023272   \n",
       "min         5.349700     -10.505500  ...     -14.093300      -2.691700   \n",
       "25%        13.943800      -2.317800  ...      -0.058825       5.157400   \n",
       "50%        16.456800       0.393700  ...       3.203600       7.347750   \n",
       "75%        19.102900       2.937900  ...       6.406200       9.512525   \n",
       "max        27.691800      10.151300  ...      18.440900      16.716500   \n",
       "\n",
       "             var_192        var_193        var_194        var_195  \\\n",
       "count  200000.000000  200000.000000  200000.000000  200000.000000   \n",
       "mean        1.927839       3.331774      17.993784      -0.142088   \n",
       "std         1.478423       3.992030       3.135162       1.429372   \n",
       "min        -3.814500     -11.783400       8.694400      -5.261000   \n",
       "25%         0.889775       0.584600      15.629800      -1.170700   \n",
       "50%         1.901300       3.396350      17.957950      -0.172700   \n",
       "75%         2.949500       6.205800      20.396525       0.829600   \n",
       "max         8.402400      18.281800      27.928800       4.272900   \n",
       "\n",
       "             var_196        var_197        var_198        var_199  \n",
       "count  200000.000000  200000.000000  200000.000000  200000.000000  \n",
       "mean        2.303335       8.908158      15.870720      -3.326537  \n",
       "std         5.454369       0.921625       3.010945      10.438015  \n",
       "min       -14.209600       5.960600       6.299300     -38.852800  \n",
       "25%        -1.946925       8.252800      13.829700     -11.208475  \n",
       "50%         2.408900       8.888200      15.934050      -2.819550  \n",
       "75%         6.556725       9.593300      18.064725       4.836800  \n",
       "max        18.321500      12.000400      26.079100      28.500700  \n",
       "\n",
       "[8 rows x 201 columns]"
      ]
     },
     "execution_count": 6,
     "metadata": {},
     "output_type": "execute_result"
    }
   ],
   "source": [
    "santander_data_train.describe()"
   ]
  },
  {
   "cell_type": "markdown",
   "metadata": {},
   "source": [
    "# CHECKING THE MISSING VALUES IN THE DATASET"
   ]
  },
  {
   "cell_type": "code",
   "execution_count": 7,
   "metadata": {},
   "outputs": [],
   "source": [
    "#Create dataframe with missing percentage for train dataset\n",
    "missing_val_train = pd.DataFrame(santander_data_train.isnull().sum())"
   ]
  },
  {
   "cell_type": "code",
   "execution_count": 8,
   "metadata": {},
   "outputs": [],
   "source": [
    "#Rename variable\n",
    "missing_val = missing_val_train.rename(columns = {'index': 'Variables', 0: 'Missing_percentage'})"
   ]
  },
  {
   "cell_type": "code",
   "execution_count": 9,
   "metadata": {},
   "outputs": [],
   "source": [
    "#Calculate percentage\n",
    "missing_val['Missing_percentage'] = (missing_val['Missing_percentage']/len(missing_val))*100"
   ]
  },
  {
   "cell_type": "code",
   "execution_count": 10,
   "metadata": {},
   "outputs": [
    {
     "data": {
      "text/html": [
       "<div>\n",
       "<style scoped>\n",
       "    .dataframe tbody tr th:only-of-type {\n",
       "        vertical-align: middle;\n",
       "    }\n",
       "\n",
       "    .dataframe tbody tr th {\n",
       "        vertical-align: top;\n",
       "    }\n",
       "\n",
       "    .dataframe thead th {\n",
       "        text-align: right;\n",
       "    }\n",
       "</style>\n",
       "<table border=\"1\" class=\"dataframe\">\n",
       "  <thead>\n",
       "    <tr style=\"text-align: right;\">\n",
       "      <th></th>\n",
       "      <th>Missing_percentage</th>\n",
       "    </tr>\n",
       "  </thead>\n",
       "  <tbody>\n",
       "    <tr>\n",
       "      <th>ID_code</th>\n",
       "      <td>0.0</td>\n",
       "    </tr>\n",
       "    <tr>\n",
       "      <th>target</th>\n",
       "      <td>0.0</td>\n",
       "    </tr>\n",
       "    <tr>\n",
       "      <th>var_0</th>\n",
       "      <td>0.0</td>\n",
       "    </tr>\n",
       "    <tr>\n",
       "      <th>var_1</th>\n",
       "      <td>0.0</td>\n",
       "    </tr>\n",
       "    <tr>\n",
       "      <th>var_2</th>\n",
       "      <td>0.0</td>\n",
       "    </tr>\n",
       "  </tbody>\n",
       "</table>\n",
       "</div>"
      ],
      "text/plain": [
       "         Missing_percentage\n",
       "ID_code                 0.0\n",
       "target                  0.0\n",
       "var_0                   0.0\n",
       "var_1                   0.0\n",
       "var_2                   0.0"
      ]
     },
     "execution_count": 10,
     "metadata": {},
     "output_type": "execute_result"
    }
   ],
   "source": [
    "missing_val.head(5)"
   ]
  },
  {
   "cell_type": "code",
   "execution_count": 11,
   "metadata": {},
   "outputs": [],
   "source": [
    "#save output results \n",
    "missing_val.to_csv(\"Missing_percentage.csv\", index = False)"
   ]
  },
  {
   "cell_type": "code",
   "execution_count": 50,
   "metadata": {},
   "outputs": [],
   "source": [
    "#store the copy of santander dataset into df variable \n",
    "#df = santander_data_train.copy()\n",
    "santander_data_train = df.copy()"
   ]
  },
  {
   "cell_type": "markdown",
   "metadata": {},
   "source": [
    "# CORRELATION ANALYSIS"
   ]
  },
  {
   "cell_type": "code",
   "execution_count": 6,
   "metadata": {},
   "outputs": [],
   "source": [
    "#Storing all numeric values into one array \n",
    "numeric_data_var = [\"var_0\",\"var_1\",\"var_2\",\"var_3\",\"var_4\",\"var_5\",\"var_6\",\"var_7\",\"var_8\",\"var_9\",\"var_10\",\"var_11\",\"var_12\",\"var_13\",\"var_14\",\"var_15\",\"var_16\",\"var_17\",\"var_18\",\"var_19\",\"var_20\",\"var_21\",\"var_22\",\"var_23\",\"var_24\",\"var_25\",\"var_26\",\"var_27\",\"var_28\",\"var_29\",\"var_30\",\"var_31\",\"var_32\",\"var_33\",\"var_34\",\"var_35\",\"var_36\",\"var_37\",\"var_38\",\"var_39\",\"var_40\",\"var_41\",\"var_42\",\"var_43\",\"var_44\",\"var_45\",\"var_46\",\"var_47\",\"var_48\",\"var_49\",\"var_50\",\"var_51\",\"var_52\",\"var_53\",\"var_54\",\"var_55\",\"var_56\",\"var_57\",\"var_58\",\"var_59\",\"var_60\",\"var_61\",\"var_62\",\"var_63\",\"var_64\",\"var_65\",\"var_66\",\"var_67\",\"var_68\",\"var_69\",\"var_70\",\"var_71\",\"var_72\",\"var_73\",\"var_74\",\"var_75\",\"var_76\",\"var_77\",\"var_78\",\"var_79\",\"var_80\",\"var_81\",\"var_82\",\"var_83\",\"var_84\",\"var_85\",\"var_86\",\"var_87\",\"var_88\",\"var_89\",\"var_90\",\"var_91\",\"var_92\",\"var_93\",\"var_94\",\"var_95\",\"var_96\",\"var_97\",\"var_98\",\"var_99\",\"var_100\",\"var_101\",\"var_102\",\"var_103\",\"var_104\",\"var_105\",\"var_106\",\"var_107\",\"var_108\",\"var_109\",\"var_110\",\"var_111\",\"var_112\",\"var_113\",\"var_114\",\"var_115\",\"var_116\",\"var_117\",\"var_118\",\"var_119\",\"var_120\",\"var_121\",\"var_122\",\"var_123\",\"var_124\",\"var_125\",\"var_126\",\"var_127\",\"var_128\",\"var_129\",\"var_130\",\"var_131\",\"var_132\",\"var_133\",\"var_134\",\"var_135\",\"var_136\",\"var_137\",\"var_138\",\"var_139\",\"var_140\",\"var_141\",\"var_142\",\"var_143\",\"var_144\",\"var_145\",\"var_146\",\"var_147\",\"var_148\",\"var_149\",\"var_150\",\"var_151\",\"var_152\",\"var_153\",\"var_154\",\"var_155\",\"var_156\",\"var_157\",\"var_158\",\"var_159\",\"var_160\",\"var_161\",\"var_162\",\"var_163\",\"var_164\",\"var_165\",\"var_166\",\"var_167\",\"var_168\",\"var_169\",\"var_170\",\"var_171\",\"var_172\",\"var_173\",\"var_174\",\"var_175\",\"var_176\",\"var_177\",\"var_178\",\"var_179\",\"var_180\",\"var_181\",\"var_182\",\"var_183\",\"var_184\",\"var_185\",\"var_186\",\"var_187\",\"var_188\",\"var_189\",\"var_190\",\"var_191\",\"var_192\",\"var_193\",\"var_194\",\"var_195\",\"var_196\",\"var_197\",\"var_198\",\"var_199\"]"
   ]
  },
  {
   "cell_type": "code",
   "execution_count": 9,
   "metadata": {},
   "outputs": [],
   "source": [
    "##Correlation analysis\n",
    "#Correlation plot\n",
    "df_corr = santander_data_train.loc[:,numeric_data_var]"
   ]
  },
  {
   "cell_type": "code",
   "execution_count": 15,
   "metadata": {},
   "outputs": [
    {
     "data": {
      "text/plain": [
       "<matplotlib.axes._subplots.AxesSubplot at 0x1be448585c0>"
      ]
     },
     "execution_count": 15,
     "metadata": {},
     "output_type": "execute_result"
    },
    {
     "data": {
      "image/png": "[encoded data removed]",
      "text/plain": [
       "<Figure size 504x360 with 2 Axes>"
      ]
     },
     "metadata": {
      "needs_background": "light"
     },
     "output_type": "display_data"
    }
   ],
   "source": [
    "#Set the width and hieght of the plot\n",
    "f, ax = plt.subplots(figsize=(7, 5))\n",
    "\n",
    "#Generate correlation matrix\n",
    "corr = df_corr.corr()\n",
    "\n",
    "#Plot using seaborn library\n",
    "sns.heatmap(corr, mask=np.zeros_like(corr, dtype=np.bool), cmap=sns.diverging_palette(220, 10, as_cmap=True),\n",
    "            square=True, ax=ax)"
   ]
  },
  {
   "cell_type": "markdown",
   "metadata": {},
   "source": [
    "# As the Entire heat map is of blue color it infers that each variable is independent of one another and we need to include all the variables for the MODEL DEVELOPMENT"
   ]
  },
  {
   "cell_type": "code",
   "execution_count": 10,
   "metadata": {},
   "outputs": [],
   "source": [
    "#Using PCA method for removing an extra variable\n",
    "#IMPORT LIBRARY TO STANDARDIZE THE DATA\n",
    "from sklearn.preprocessing import StandardScaler"
   ]
  },
  {
   "cell_type": "code",
   "execution_count": 11,
   "metadata": {},
   "outputs": [
    {
     "data": {
      "text/plain": [
       "StandardScaler(copy=True, with_mean=True, with_std=True)"
      ]
     },
     "execution_count": 11,
     "metadata": {},
     "output_type": "execute_result"
    }
   ],
   "source": [
    "test_fit = StandardScaler()\n",
    "test_fit.fit(santander_data_train.iloc[:,2:202])"
   ]
  },
  {
   "cell_type": "code",
   "execution_count": 12,
   "metadata": {},
   "outputs": [],
   "source": [
    "santander_data = test_fit.transform(santander_data_train.iloc[:,2:202])"
   ]
  },
  {
   "cell_type": "code",
   "execution_count": 13,
   "metadata": {},
   "outputs": [],
   "source": [
    "#IMPORTING THE PCA LIBRARY\n",
    "from sklearn.decomposition import PCA\n",
    "test_pca = PCA(n_components=100)"
   ]
  },
  {
   "cell_type": "code",
   "execution_count": 14,
   "metadata": {},
   "outputs": [],
   "source": [
    "test_pca.fit(santander_data)\n",
    "my_model = test_pca.transform(santander_data)"
   ]
  },
  {
   "cell_type": "code",
   "execution_count": 15,
   "metadata": {},
   "outputs": [
    {
     "name": "stdout",
     "output_type": "stream",
     "text": [
      "[0.00600303 0.01124513 0.01647656 0.02169854 0.02691794 0.03213476\n",
      " 0.03734221 0.04254237 0.04773654 0.05292176 0.05810603 0.0632846\n",
      " 0.06845561 0.07362256 0.07878123 0.08393764 0.08908956 0.09423606\n",
      " 0.09938104 0.10452277 0.10965684 0.11478756 0.11991315 0.12503519\n",
      " 0.13015519 0.13527071 0.14038472 0.14549548 0.15060152 0.15570272\n",
      " 0.16080202 0.16589793 0.17099321 0.17608517 0.18117345 0.18625688\n",
      " 0.19133562 0.19641036 0.20148117 0.20654819 0.21161347 0.21667475\n",
      " 0.22173407 0.22678785 0.23183871 0.23688777 0.24193574 0.24698025\n",
      " 0.25202017 0.25705624 0.26208681 0.26711364 0.27213686 0.27715756\n",
      " 0.28217198 0.28718446 0.29219423 0.29719757 0.3022005  0.30720011\n",
      " 0.31219738 0.31718743 0.32217634 0.32716318 0.33214492 0.33712206\n",
      " 0.3420949  0.347066   0.35203495 0.35699806 0.36195945 0.36691486\n",
      " 0.37186991 0.37681737 0.38176155 0.38670459 0.39164552 0.39658206\n",
      " 0.40151338 0.40644014 0.41136538 0.41629046 0.4212087  0.42612263\n",
      " 0.43103265 0.43594014 0.44084046 0.44573983 0.45063454 0.45552878\n",
      " 0.46042124 0.46530745 0.4701917  0.47507094 0.47994343 0.4848103\n",
      " 0.489674   0.49453136 0.4993863  0.5042306 ]\n"
     ]
    }
   ],
   "source": [
    "print(test_pca.explained_variance_ratio_.cumsum())"
   ]
  },
  {
   "cell_type": "markdown",
   "metadata": {},
   "source": [
    "From the above observation values we infer that only the variance covered by the 50% of the data is just 50% it shows that all the variables must be included to get the 100% variance"
   ]
  },
  {
   "cell_type": "markdown",
   "metadata": {},
   "source": [
    "# DATA PREPROCESSING"
   ]
  },
  {
   "cell_type": "markdown",
   "metadata": {},
   "source": [
    "MISSING VALUE ANALYSIS\n",
    "#AS THERE ARE NO MISSING VALUES IN THE DATASET THERE IS NO NEED TO DO MISSING VALUE ANALYSIS."
   ]
  },
  {
   "cell_type": "markdown",
   "metadata": {},
   "source": [
    "# OUTLIERS"
   ]
  },
  {
   "cell_type": "code",
   "execution_count": 22,
   "metadata": {},
   "outputs": [
    {
     "data": {
      "text/plain": [
       "{'whiskers': [<matplotlib.lines.Line2D at 0x1be26536630>,\n",
       "  <matplotlib.lines.Line2D at 0x1be265369b0>],\n",
       " 'caps': [<matplotlib.lines.Line2D at 0x1be26536cf8>,\n",
       "  <matplotlib.lines.Line2D at 0x1be26545080>],\n",
       " 'boxes': [<matplotlib.lines.Line2D at 0x1be265364a8>],\n",
       " 'medians': [<matplotlib.lines.Line2D at 0x1be265453c8>],\n",
       " 'fliers': [<matplotlib.lines.Line2D at 0x1be26545710>],\n",
       " 'means': []}"
      ]
     },
     "execution_count": 22,
     "metadata": {},
     "output_type": "execute_result"
    },
    {
     "data": {
      "image/png": "[encoded data removed]",
      "text/plain": [
       "<Figure size 432x288 with 1 Axes>"
      ]
     },
     "metadata": {
      "needs_background": "light"
     },
     "output_type": "display_data"
    }
   ],
   "source": [
    " #Plot boxplot to visualize Outliers\n",
    " %matplotlib inline  \n",
    " plt.boxplot(santander_data_train['var_0'])"
   ]
  },
  {
   "cell_type": "markdown",
   "metadata": {},
   "source": [
    "THERE EXISTS THE OUTLIERS FOR THE DATA VARIABLES WE ARE REMOVING THE OUTLIERS WHICH ARE ABOVE 75th PERCENTILE AND BELOW 25th PERCENTILE"
   ]
  },
  {
   "cell_type": "code",
   "execution_count": 7,
   "metadata": {},
   "outputs": [
    {
     "name": "stdout",
     "output_type": "stream",
     "text": [
      "var_0\n",
      "1.9973250000000018\n",
      "19.214725\n",
      "var_1\n",
      "-13.888612499999997\n",
      "10.507087499999999\n",
      "var_2\n",
      "3.031512499999998\n",
      "18.207612500000003\n",
      "var_3\n",
      "0.6484500000000004\n",
      "12.929649999999999\n",
      "var_4\n",
      "6.3163750000000025\n",
      "15.827774999999997\n",
      "var_5\n",
      "-29.38955\n",
      "19.11405\n",
      "var_6\n",
      "2.9145000000000008\n",
      "7.856099999999998\n",
      "var_7\n",
      "6.206024999999997\n",
      "26.839825000000005\n",
      "var_8\n",
      "-10.2005625\n",
      "10.8209375\n",
      "var_9\n",
      "3.6705499999999995\n",
      "11.53255\n",
      "var_10\n",
      "-15.5628\n",
      "16.3516\n",
      "var_11\n",
      "-20.0544\n",
      "13.399200000000002\n",
      "var_12\n",
      "13.488700000000001\n",
      "14.569499999999998\n",
      "var_13\n",
      "-5.730549999999998\n",
      "23.077849999999998\n",
      "var_14\n",
      "0.5459000000000014\n",
      "14.504299999999999\n",
      "var_15\n",
      "13.345000000000002\n",
      "15.792199999999998\n",
      "var_16\n",
      "2.048700000000002\n",
      "16.4591\n",
      "var_17\n",
      "-24.981524999999998\n",
      "13.696475\n",
      "var_18\n",
      "-8.5675\n",
      "38.7573\n",
      "var_19\n",
      "-11.95475\n",
      "36.660849999999996\n",
      "var_20\n",
      "-5.251424999999999\n",
      "31.758375\n",
      "var_21\n",
      "-5.760100000000001\n",
      "40.4015\n",
      "var_22\n",
      "-3.984325000000001\n",
      "12.459875\n",
      "var_23\n",
      "1.4802499999999994\n",
      "4.557450000000001\n",
      "var_24\n",
      "-1.1814875000000011\n",
      "22.2772125\n",
      "var_25\n",
      "12.845600000000001\n",
      "14.4744\n",
      "var_26\n",
      "-20.6719375\n",
      "12.258962499999999\n",
      "var_27\n",
      "-5.792199999999999\n",
      "3.4997999999999996\n",
      "var_28\n",
      "3.3396500000000007\n",
      "7.7456499999999995\n",
      "var_29\n",
      "-2.2664000000000004\n",
      "12.2384\n",
      "var_30\n",
      "-32.25265\n",
      "17.03575\n",
      "var_31\n",
      "4.34575\n",
      "16.40935\n",
      "var_32\n",
      "-8.45445\n",
      "7.42435\n",
      "var_33\n",
      "1.4957499999999957\n",
      "28.050550000000005\n",
      "var_34\n",
      "9.8152\n",
      "13.0624\n",
      "var_35\n",
      "-10.939387499999999\n",
      "18.5457125\n",
      "var_36\n",
      "-6.708687499999999\n",
      "11.159612499999998\n",
      "var_37\n",
      "-1.0024374999999992\n",
      "12.6704625\n",
      "var_38\n",
      "-1.4205000000000014\n",
      "22.6107\n",
      "var_39\n",
      "-10.958450000000001\n",
      "12.40075\n",
      "var_40\n",
      "-30.745624999999997\n",
      "17.034575\n",
      "var_41\n",
      "-9.335837500000002\n",
      "27.608262500000002\n",
      "var_42\n",
      "9.148150000000001\n",
      "13.32215\n",
      "var_43\n",
      "10.652349999999998\n",
      "12.49595\n",
      "var_44\n",
      "-6.357675\n",
      "24.760525\n",
      "var_45\n",
      "-76.55815\n",
      "50.97265\n",
      "var_46\n",
      "3.13955\n",
      "19.42555\n",
      "var_47\n",
      "-45.275099999999995\n",
      "20.365699999999997\n",
      "var_48\n",
      "-18.653325000000002\n",
      "48.042875\n",
      "var_49\n",
      "-7.1763249999999985\n",
      "40.383475\n",
      "var_50\n",
      "10.8210625\n",
      "14.681962500000001\n",
      "var_51\n",
      "-10.905650000000005\n",
      "37.554750000000006\n",
      "var_52\n",
      "-16.589075\n",
      "11.466725\n",
      "var_53\n",
      "3.775450000000001\n",
      "8.20305\n",
      "var_54\n",
      "-23.986600000000003\n",
      "26.233800000000002\n",
      "var_55\n",
      "-5.221974999999999\n",
      "30.477024999999998\n",
      "var_56\n",
      "6.31945\n",
      "27.07545\n",
      "var_57\n",
      "3.9503000000000004\n",
      "8.5815\n",
      "var_58\n",
      "-8.8616\n",
      "15.2488\n",
      "var_59\n",
      "6.430225000000001\n",
      "11.449224999999998\n",
      "var_60\n",
      "-0.39229999999999876\n",
      "24.4253\n",
      "var_61\n",
      "-47.40687500000001\n",
      "23.261325000000006\n",
      "var_62\n",
      "-4.7687\n",
      "6.422499999999999\n",
      "var_63\n",
      "-8.501825\n",
      "9.932775\n",
      "var_64\n",
      "1.995\n",
      "10.7878\n",
      "var_65\n",
      "-9.861925\n",
      "11.901075\n",
      "var_66\n",
      "2.5532999999999997\n",
      "9.0061\n",
      "var_67\n",
      "-8.662625000000006\n",
      "32.45077500000001\n",
      "var_68\n",
      "4.998849999999999\n",
      "5.039250000000001\n",
      "var_69\n",
      "-15.099675000000001\n",
      "8.258125000000001\n",
      "var_70\n",
      "-12.298749999999997\n",
      "61.186449999999994\n",
      "var_71\n",
      "-0.11520000000000002\n",
      "1.452\n",
      "var_72\n",
      "-10.7685625\n",
      "12.086337499999999\n",
      "var_73\n",
      "-2.5656999999999996\n",
      "41.8727\n",
      "var_74\n",
      "-20.42335\n",
      "59.654650000000004\n",
      "var_75\n",
      "-0.9599500000000027\n",
      "34.87245\n",
      "var_76\n",
      "-16.2241\n",
      "28.6471\n",
      "var_77\n",
      "6.96265\n",
      "31.09025\n",
      "var_78\n",
      "-0.7568999999999986\n",
      "11.440899999999997\n",
      "var_79\n",
      "10.3642625\n",
      "18.3937625\n",
      "var_80\n",
      "-15.435187500000001\n",
      "27.580112500000006\n",
      "var_81\n",
      "8.524187499999998\n",
      "21.032487500000002\n",
      "var_82\n",
      "-29.681487500000006\n",
      "22.764412500000006\n",
      "var_83\n",
      "-23.941800000000004\n",
      "26.282200000000003\n",
      "var_84\n",
      "-21.017025\n",
      "15.776575\n",
      "var_85\n",
      "6.310212499999997\n",
      "30.394712500000008\n",
      "var_86\n",
      "-15.712499999999999\n",
      "27.280299999999997\n",
      "var_87\n",
      "-5.0275\n",
      "27.7165\n",
      "var_88\n",
      "1.4474499999999972\n",
      "16.038250000000005\n",
      "var_89\n",
      "-6.377075\n",
      "13.669525\n",
      "var_90\n",
      "-57.027550000000005\n",
      "23.972050000000003\n",
      "var_91\n",
      "6.523149999999999\n",
      "7.44835\n",
      "var_92\n",
      "0.4134499999999992\n",
      "25.10185\n",
      "var_93\n",
      "9.072\n",
      "12.0688\n",
      "var_94\n",
      "2.435500000000001\n",
      "19.479499999999998\n",
      "var_95\n",
      "-1.81025\n",
      "1.61175\n",
      "var_96\n",
      "-11.7165875\n",
      "40.3241125\n",
      "var_97\n",
      "-19.962750000000007\n",
      "57.052650000000014\n",
      "var_98\n",
      "-0.22260000000000013\n",
      "3.7494\n",
      "var_99\n",
      "-6.05585\n",
      "4.475750000000001\n",
      "var_100\n",
      "-33.1882\n",
      "20.1384\n",
      "var_101\n",
      "-1.797699999999999\n",
      "28.6783\n",
      "var_102\n",
      "-2.8859999999999992\n",
      "47.6316\n",
      "var_103\n",
      "1.01425\n",
      "2.12025\n",
      "var_104\n",
      "5.893450000000001\n",
      "17.108249999999998\n",
      "var_105\n",
      "1.86455\n",
      "6.59775\n",
      "var_106\n",
      "3.315525\n",
      "13.894525000000002\n",
      "var_107\n",
      "-4.609049999999998\n",
      "40.150549999999996\n",
      "var_108\n",
      "13.705000000000002\n",
      "14.755399999999998\n",
      "var_109\n",
      "4.981299999999997\n",
      "31.983300000000007\n",
      "var_110\n",
      "-5.107\n",
      "16.016\n",
      "var_111\n",
      "3.1552874999999996\n",
      "9.4355875\n",
      "var_112\n",
      "-1.6401375000000002\n",
      "8.3079625\n",
      "var_113\n",
      "-5.3849\n",
      "21.7849\n",
      "var_114\n",
      "0.25409999999999977\n",
      "5.9460999999999995\n",
      "var_115\n",
      "-5.1867875\n",
      "9.703912500000001\n",
      "var_116\n",
      "-2.5698000000000003\n",
      "7.4086\n",
      "var_117\n",
      "-22.758125000000003\n",
      "54.913275\n",
      "var_118\n",
      "-30.411550000000005\n",
      "19.798850000000005\n",
      "var_119\n",
      "-9.538150000000002\n",
      "15.475050000000001\n",
      "var_120\n",
      "-10.455525000000003\n",
      "59.244275\n",
      "var_121\n",
      "6.063149999999999\n",
      "16.55395\n",
      "var_122\n",
      "-14.0537\n",
      "16.5823\n",
      "var_123\n",
      "-10.536674999999999\n",
      "25.089525\n",
      "var_124\n",
      "-3.4054\n",
      "11.956199999999999\n",
      "var_125\n",
      "11.536199999999997\n",
      "13.4282\n",
      "var_126\n",
      "10.8012\n",
      "15.618\n",
      "var_127\n",
      "-8.705549999999999\n",
      "10.49005\n",
      "var_128\n",
      "-10.998875\n",
      "8.759725\n",
      "var_129\n",
      "3.5600125000000045\n",
      "27.434112499999994\n",
      "var_130\n",
      "9.7274\n",
      "14.765800000000002\n",
      "var_131\n",
      "-0.8312499999999998\n",
      "1.9403499999999996\n",
      "var_132\n",
      "3.44175\n",
      "12.194949999999999\n",
      "var_133\n",
      "5.751249999999999\n",
      "7.86205\n",
      "var_134\n",
      "-23.8119\n",
      "14.0017\n",
      "var_135\n",
      "-26.5782125\n",
      "17.770287500000002\n",
      "var_136\n",
      "-9.258087499999997\n",
      "55.21601249999999\n",
      "var_137\n",
      "-9.993199999999998\n",
      "45.0746\n",
      "var_138\n",
      "-11.620200000000002\n",
      "13.988400000000002\n",
      "var_139\n",
      "-13.864050000000002\n",
      "29.49395\n",
      "var_140\n",
      "-10.914175\n",
      "17.864425\n",
      "var_141\n",
      "-17.653550000000003\n",
      "23.691850000000002\n",
      "var_142\n",
      "-4.384649999999995\n",
      "28.345749999999995\n",
      "var_143\n",
      "4.087949999999998\n",
      "20.693150000000003\n",
      "var_144\n",
      "5.944387500000003\n",
      "11.335087499999995\n",
      "var_145\n",
      "-6.798275\n",
      "16.358725\n",
      "var_146\n",
      "3.448900000000001\n",
      "17.3121\n",
      "var_147\n",
      "-24.90945\n",
      "18.18695\n",
      "var_148\n",
      "3.4362500000000002\n",
      "4.549449999999999\n",
      "var_149\n",
      "-23.8025\n",
      "34.6007\n",
      "var_150\n",
      "9.351250000000004\n",
      "24.287649999999996\n",
      "var_151\n",
      "-1.9176999999999982\n",
      "22.0351\n",
      "var_152\n",
      "-0.8068999999999997\n",
      "16.1981\n",
      "var_153\n",
      "10.682549999999999\n",
      "22.81255\n",
      "var_154\n",
      "-7.811912499999998\n",
      "21.920787499999996\n",
      "var_155\n",
      "-18.52655\n",
      "14.15345\n",
      "var_156\n",
      "10.29325\n",
      "16.10805\n",
      "var_157\n",
      "-20.8829\n",
      "10.9667\n",
      "var_158\n",
      "-5.5235\n",
      "41.5045\n",
      "var_159\n",
      "-1.5347749999999998\n",
      "21.864625\n",
      "var_160\n",
      "-9.727900000000004\n",
      "58.0403\n",
      "var_161\n",
      "4.988049999999999\n",
      "6.274050000000001\n",
      "var_162\n",
      "1.2613999999999996\n",
      "9.4334\n",
      "var_163\n",
      "-4.366900000000003\n",
      "26.012300000000003\n",
      "var_164\n",
      "-19.69305\n",
      "13.924949999999999\n",
      "var_165\n",
      "4.834799999999998\n",
      "33.942800000000005\n",
      "var_166\n",
      "1.88465\n",
      "4.0562499999999995\n",
      "var_167\n",
      "-26.07765\n",
      "17.739549999999998\n",
      "var_168\n",
      "-3.7702999999999998\n",
      "13.491900000000001\n",
      "var_169\n",
      "4.578899999999999\n",
      "6.701300000000002\n",
      "var_170\n",
      "-12.787949999999999\n",
      "12.60925\n",
      "var_171\n",
      "-16.218674999999998\n",
      "14.452724999999997\n",
      "var_172\n",
      "-4.535612500000003\n",
      "44.1720875\n",
      "var_173\n",
      "-17.969137500000002\n",
      "16.5715625\n",
      "var_174\n",
      "-0.7959499999999995\n",
      "41.50925\n",
      "var_175\n",
      "2.8095374999999967\n",
      "20.299237500000004\n",
      "var_176\n",
      "-24.9961125\n",
      "19.3185875\n",
      "var_177\n",
      "3.619649999999999\n",
      "20.109650000000002\n",
      "var_178\n",
      "-26.479125\n",
      "24.430075\n",
      "var_179\n",
      "-5.019750000000001\n",
      "10.041450000000001\n",
      "var_180\n",
      "-18.1864\n",
      "12.5136\n",
      "var_181\n",
      "6.195299999999998\n",
      "13.900900000000002\n",
      "var_182\n",
      "-26.3924625\n",
      "27.8490375\n",
      "var_183\n",
      "-4.6315500000000025\n",
      "22.191850000000002\n",
      "var_184\n",
      "-15.010612499999997\n",
      "40.160087499999996\n",
      "var_185\n",
      "-17.51235\n",
      "9.55845\n",
      "var_186\n",
      "-0.00414999999999921\n",
      "17.91145\n",
      "var_187\n",
      "-45.81253749999999\n",
      "25.105762499999997\n",
      "var_188\n",
      "3.736400000000005\n",
      "27.11039999999999\n",
      "var_189\n",
      "-2.1843\n",
      "3.6805000000000003\n",
      "var_190\n",
      "-9.7487375\n",
      "16.0833625\n",
      "var_191\n",
      "-1.3775375000000016\n",
      "16.032962500000004\n",
      "var_192\n",
      "-2.1995\n",
      "6.0397\n",
      "var_193\n",
      "-7.8344000000000005\n",
      "14.6248\n",
      "var_194\n",
      "8.476574999999997\n",
      "27.547975\n",
      "var_195\n",
      "-4.17285\n",
      "3.83155\n",
      "var_196\n",
      "-14.703475000000001\n",
      "19.302125\n",
      "var_197\n",
      "6.240750000000003\n",
      "11.605949999999996\n",
      "var_198\n",
      "7.483849999999997\n",
      "24.425850000000004\n",
      "var_199\n",
      "-35.24845\n",
      "28.861549999999998\n"
     ]
    }
   ],
   "source": [
    "for i in numeric_data_var:\n",
    "    q75,q25 = np.percentile(santander_data_train.loc[:,i],[75,25])\n",
    "    print(i)\n",
    "    iqr = q75 - q25\n",
    "    min = q25 - (iqr*1.5)\n",
    "    max = q75 + (iqr*1.5)\n",
    "    print(min)\n",
    "    print(max)\n",
    "    santander_data_train = santander_data_train.drop(santander_data_train[santander_data_train.loc[:,i] < min].index)\n",
    "    santander_data_train = santander_data_train.drop(santander_data_train[santander_data_train.loc[:,i] > max].index)"
   ]
  },
  {
   "cell_type": "code",
   "execution_count": 24,
   "metadata": {},
   "outputs": [
    {
     "data": {
      "text/plain": [
       "{'whiskers': [<matplotlib.lines.Line2D at 0x1be2658cd30>,\n",
       "  <matplotlib.lines.Line2D at 0x1be2659d0f0>],\n",
       " 'caps': [<matplotlib.lines.Line2D at 0x1be2659d438>,\n",
       "  <matplotlib.lines.Line2D at 0x1be2659d780>],\n",
       " 'boxes': [<matplotlib.lines.Line2D at 0x1be2658cbe0>],\n",
       " 'medians': [<matplotlib.lines.Line2D at 0x1be2659dac8>],\n",
       " 'fliers': [<matplotlib.lines.Line2D at 0x1be2659de10>],\n",
       " 'means': []}"
      ]
     },
     "execution_count": 24,
     "metadata": {},
     "output_type": "execute_result"
    },
    {
     "data": {
      "image/png": "[encoded data removed]",
      "text/plain": [
       "<Figure size 432x288 with 1 Axes>"
      ]
     },
     "metadata": {
      "needs_background": "light"
     },
     "output_type": "display_data"
    }
   ],
   "source": [
    " #Plot boxplot to visualize Outliers\n",
    " %matplotlib inline  \n",
    " plt.boxplot(santander_data_train['var_0'])"
   ]
  },
  {
   "cell_type": "markdown",
   "metadata": {},
   "source": [
    "ABOVE FIGURE SHOWS THAT THERE ARE NO OUTLIERS IN THE VAR_0"
   ]
  },
  {
   "cell_type": "code",
   "execution_count": 25,
   "metadata": {},
   "outputs": [
    {
     "data": {
      "text/plain": [
       "{'whiskers': [<matplotlib.lines.Line2D at 0x1be30237f60>,\n",
       "  <matplotlib.lines.Line2D at 0x1be2b3a8320>],\n",
       " 'caps': [<matplotlib.lines.Line2D at 0x1be2b3a8668>,\n",
       "  <matplotlib.lines.Line2D at 0x1be2b3a89b0>],\n",
       " 'boxes': [<matplotlib.lines.Line2D at 0x1be30237e10>],\n",
       " 'medians': [<matplotlib.lines.Line2D at 0x1be2b3a8cf8>],\n",
       " 'fliers': [<matplotlib.lines.Line2D at 0x1be2b39e080>],\n",
       " 'means': []}"
      ]
     },
     "execution_count": 25,
     "metadata": {},
     "output_type": "execute_result"
    },
    {
     "data": {
      "image/png": "[encoded data removed]",
      "text/plain": [
       "<Figure size 432x288 with 1 Axes>"
      ]
     },
     "metadata": {
      "needs_background": "light"
     },
     "output_type": "display_data"
    }
   ],
   "source": [
    " #Plot boxplot to visualize Outliers\n",
    " %matplotlib inline  \n",
    " plt.boxplot(santander_data_train['var_186'])"
   ]
  },
  {
   "cell_type": "markdown",
   "metadata": {},
   "source": [
    "# FEATURE SELECTION"
   ]
  },
  {
   "cell_type": "code",
   "execution_count": 26,
   "metadata": {},
   "outputs": [],
   "source": [
    "santander_data_CORRELATION = santander_data_train.iloc[:,2:10]"
   ]
  },
  {
   "cell_type": "code",
   "execution_count": 27,
   "metadata": {},
   "outputs": [
    {
     "data": {
      "text/plain": [
       "<matplotlib.axes._subplots.AxesSubplot at 0x1be98e06518>"
      ]
     },
     "execution_count": 27,
     "metadata": {},
     "output_type": "execute_result"
    },
    {
     "data": {
      "image/png": "[encoded data removed]",
      "text/plain": [
       "<Figure size 1440x720 with 2 Axes>"
      ]
     },
     "metadata": {
      "needs_background": "light"
     },
     "output_type": "display_data"
    }
   ],
   "source": [
    "#Set the width and hieght of the plot\n",
    "f, ax = plt.subplots(figsize=(20, 10))\n",
    "\n",
    "#Generate correlation matrix\n",
    "correlation_matrix = santander_data_CORRELATION.corr()\n",
    "\n",
    "#Plot using seaborn library\n",
    "sns.heatmap(correlation_matrix, mask=np.zeros_like(correlation_matrix, dtype=np.bool), cmap=sns.diverging_palette(220, 200, as_cmap=True),\n",
    "            square=True, ax=ax)"
   ]
  },
  {
   "cell_type": "markdown",
   "metadata": {},
   "source": [
    "#FEATURE SCALING WILL BE DONE BASED ON THE MODEL"
   ]
  },
  {
   "cell_type": "markdown",
   "metadata": {},
   "source": [
    "# MODEL DEVELOPMENT"
   ]
  },
  {
   "cell_type": "markdown",
   "metadata": {},
   "source": [
    "# APPLYING A  LOGISTIC REGRESSION MODEL"
   ]
  },
  {
   "cell_type": "code",
   "execution_count": 28,
   "metadata": {},
   "outputs": [],
   "source": [
    "#THIS VARIABLE IS OF STRING DATA TYPE AND IT HAS NO USE IN PREDICTING TARGET VALUE\n",
    "santander_data_train = santander_data_train.drop(\"ID_code\" , axis=1)"
   ]
  },
  {
   "cell_type": "code",
   "execution_count": 29,
   "metadata": {},
   "outputs": [
    {
     "data": {
      "text/plain": [
       "(175073, 201)"
      ]
     },
     "execution_count": 29,
     "metadata": {},
     "output_type": "execute_result"
    }
   ],
   "source": [
    "santander_data_train.shape"
   ]
  },
  {
   "cell_type": "code",
   "execution_count": 30,
   "metadata": {},
   "outputs": [],
   "source": [
    "from sklearn.model_selection import train_test_split\n",
    "from sklearn.linear_model import LogisticRegression\n",
    "from sklearn.metrics import classification_report\n",
    "from sklearn.metrics import confusion_matrix \n",
    "from sklearn import  metrics\n"
   ]
  },
  {
   "cell_type": "markdown",
   "metadata": {},
   "source": [
    "x_train, x_test, y_train, y_test = train_test_split(santander_data_train.drop('target',axis=1), \n",
    "                                                    santander_data_train'] test_size=0.30, \n",
    "                                                    random_state=101)"
   ]
  },
  {
   "cell_type": "code",
   "execution_count": 31,
   "metadata": {},
   "outputs": [],
   "source": [
    "x_train, x_test, y_train, y_test = train_test_split(santander_data_train.drop('target',axis=1), \n",
    "                                                    santander_data_train['target'] ,test_size=0.30, \n",
    "                                                    random_state=101)"
   ]
  },
  {
   "cell_type": "code",
   "execution_count": 32,
   "metadata": {},
   "outputs": [
    {
     "name": "stderr",
     "output_type": "stream",
     "text": [
      "E:\\Datascience\\lib\\site-packages\\sklearn\\linear_model\\logistic.py:433: FutureWarning: Default solver will be changed to 'lbfgs' in 0.22. Specify a solver to silence this warning.\n",
      "  FutureWarning)\n"
     ]
    },
    {
     "data": {
      "text/plain": [
       "LogisticRegression(C=1.0, class_weight=None, dual=False, fit_intercept=True,\n",
       "          intercept_scaling=1, max_iter=100, multi_class='warn',\n",
       "          n_jobs=None, penalty='l2', random_state=None, solver='warn',\n",
       "          tol=0.0001, verbose=0, warm_start=False)"
      ]
     },
     "execution_count": 32,
     "metadata": {},
     "output_type": "execute_result"
    }
   ],
   "source": [
    "#predicting the model\n",
    "logistic_model = LogisticRegression()\n",
    "logistic_model.fit(x_train,y_train)"
   ]
  },
  {
   "cell_type": "code",
   "execution_count": 33,
   "metadata": {},
   "outputs": [],
   "source": [
    "logistic_predictions = logistic_model.predict(x_test)"
   ]
  },
  {
   "cell_type": "code",
   "execution_count": 34,
   "metadata": {},
   "outputs": [
    {
     "name": "stdout",
     "output_type": "stream",
     "text": [
      "              precision    recall  f1-score   support\n",
      "\n",
      "           0       0.93      0.99      0.96     47405\n",
      "           1       0.69      0.26      0.38      5117\n",
      "\n",
      "   micro avg       0.92      0.92      0.92     52522\n",
      "   macro avg       0.81      0.63      0.67     52522\n",
      "weighted avg       0.90      0.92      0.90     52522\n",
      "\n"
     ]
    }
   ],
   "source": [
    "# precision and recall for both the values are given\n",
    "print(classification_report(y_test,logistic_predictions))"
   ]
  },
  {
   "cell_type": "code",
   "execution_count": 35,
   "metadata": {},
   "outputs": [
    {
     "name": "stdout",
     "output_type": "stream",
     "text": [
      "recall = 26.34356068008599\n",
      "precision = 69.05737704918033\n",
      "False Negative Rate = 73.65643931991401\n"
     ]
    }
   ],
   "source": [
    "# build confusion matrix\n",
    "CM = confusion_matrix(y_test,logistic_predictions)\n",
    "CM = pd.crosstab(y_test,logistic_predictions)\n",
    "\n",
    "#let us save TP, TN, FP, FN\n",
    "TN = CM.iloc[0,0]\n",
    "FN = CM.iloc[1,0]\n",
    "TP = CM.iloc[1,1]\n",
    "FP = CM.iloc[0,1]\n",
    "\n",
    "#check accuracy of model\n",
    "#recall(y_test, y_pred)*100\n",
    "print(\"recall\", \"=\", (TP*100)/(TP+FN))\n",
    "\n",
    "#precision\n",
    "print(\"precision\", \"=\" ,(TP*100)/(TP+FP))\n",
    "\n",
    "#False Neagtive Rate\n",
    "print(\"False Negative Rate\", \"=\" ,(FN*100)/(FN+TP))"
   ]
  },
  {
   "cell_type": "code",
   "execution_count": 36,
   "metadata": {},
   "outputs": [
    {
     "data": {
      "text/plain": [
       "0.62534716739157"
      ]
     },
     "execution_count": 36,
     "metadata": {},
     "output_type": "execute_result"
    }
   ],
   "source": [
    "metrics.roc_auc_score(y_test, logistic_predictions)"
   ]
  },
  {
   "cell_type": "markdown",
   "metadata": {},
   "source": [
    "#Results\n",
    "#Accuracy =92%\n",
    "#recall = 26.34356068008599\n",
    "#precision = 69.05737704918033\n",
    "#AUC =62.53%\n",
    "#False Negative Rate = 73.65643931991401"
   ]
  },
  {
   "cell_type": "markdown",
   "metadata": {},
   "source": [
    "# APPLYING THE DECISION TREES CLASSIFIACTION ALGORITHM"
   ]
  },
  {
   "cell_type": "code",
   "execution_count": 31,
   "metadata": {},
   "outputs": [],
   "source": [
    "from sklearn.tree import DecisionTreeClassifier\n",
    "from sklearn.model_selection import train_test_split"
   ]
  },
  {
   "cell_type": "code",
   "execution_count": 38,
   "metadata": {},
   "outputs": [],
   "source": [
    "decision_classifier = DecisionTreeClassifier(criterion=\"entropy\")"
   ]
  },
  {
   "cell_type": "code",
   "execution_count": 39,
   "metadata": {},
   "outputs": [
    {
     "data": {
      "text/plain": [
       "DecisionTreeClassifier(class_weight=None, criterion='entropy', max_depth=None,\n",
       "            max_features=None, max_leaf_nodes=None,\n",
       "            min_impurity_decrease=0.0, min_impurity_split=None,\n",
       "            min_samples_leaf=1, min_samples_split=2,\n",
       "            min_weight_fraction_leaf=0.0, presort=False, random_state=None,\n",
       "            splitter='best')"
      ]
     },
     "execution_count": 39,
     "metadata": {},
     "output_type": "execute_result"
    }
   ],
   "source": [
    "decision_classifier.fit(x_train,y_train)"
   ]
  },
  {
   "cell_type": "code",
   "execution_count": 40,
   "metadata": {},
   "outputs": [],
   "source": [
    "decision_predictions =decision_classifier.predict(x_test)"
   ]
  },
  {
   "cell_type": "code",
   "execution_count": 41,
   "metadata": {},
   "outputs": [
    {
     "name": "stdout",
     "output_type": "stream",
     "text": [
      "              precision    recall  f1-score   support\n",
      "\n",
      "           0       0.91      0.91      0.91     47405\n",
      "           1       0.18      0.19      0.18      5117\n",
      "\n",
      "   micro avg       0.84      0.84      0.84     52522\n",
      "   macro avg       0.55      0.55      0.55     52522\n",
      "weighted avg       0.84      0.84      0.84     52522\n",
      "\n"
     ]
    }
   ],
   "source": [
    "print(classification_report(y_test,decision_predictions))"
   ]
  },
  {
   "cell_type": "code",
   "execution_count": 44,
   "metadata": {},
   "outputs": [
    {
     "name": "stdout",
     "output_type": "stream",
     "text": [
      "recall = 18.6046511627907\n",
      "precision = 18.27956989247312\n",
      "False Negative Rate = 81.3953488372093\n"
     ]
    }
   ],
   "source": [
    "# build confusion matrix\n",
    "CM = confusion_matrix(y_test,decision_predictions)\n",
    "CM = pd.crosstab(y_test,decision_predictions)\n",
    "\n",
    "#let us save TP, TN, FP, FN\n",
    "TN = CM.iloc[0,0]\n",
    "FN = CM.iloc[1,0]\n",
    "TP = CM.iloc[1,1]\n",
    "FP = CM.iloc[0,1]\n",
    "\n",
    "#check accuracy of model\n",
    "#recall(y_test, y_pred)*100\n",
    "print(\"recall\", \"=\", (TP*100)/(TP+FN))\n",
    "\n",
    "#precision\n",
    "print(\"precision\", \"=\" ,(TP*100)/(TP+FP))\n",
    "\n",
    "#False Neagtive Rate\n",
    "print(\"False Negative Rate\", \"=\" ,(FN*100)/(FN+TP))"
   ]
  },
  {
   "cell_type": "code",
   "execution_count": 45,
   "metadata": {},
   "outputs": [
    {
     "data": {
      "text/plain": [
       "0.5481334762548352"
      ]
     },
     "execution_count": 45,
     "metadata": {},
     "output_type": "execute_result"
    }
   ],
   "source": [
    "metrics.roc_auc_score(y_test,decision_predictions)"
   ]
  },
  {
   "cell_type": "markdown",
   "metadata": {},
   "source": [
    "# NAIVE BAYES"
   ]
  },
  {
   "cell_type": "code",
   "execution_count": 8,
   "metadata": {},
   "outputs": [],
   "source": [
    "from sklearn.naive_bayes import GaussianNB\n",
    "from sklearn.model_selection import train_test_split\n",
    "from sklearn.metrics import classification_report\n",
    "from sklearn.metrics import confusion_matrix \n",
    "from sklearn import  metrics"
   ]
  },
  {
   "cell_type": "code",
   "execution_count": 12,
   "metadata": {},
   "outputs": [],
   "source": [
    "#THIS VARIABLE IS OF STRING DATA TYPE AND IT HAS NO USE IN PREDICTING TARGET VALUE\n",
    "santander_data_train = santander_data_train.drop(\"ID_code\" , axis=1)"
   ]
  },
  {
   "cell_type": "code",
   "execution_count": 13,
   "metadata": {},
   "outputs": [],
   "source": [
    "x_train, x_test, y_train, y_test = train_test_split(santander_data_train.drop('target',axis=1), \n",
    "                                                    santander_data_train['target'] ,test_size=0.30, \n",
    "                                                    random_state=101)"
   ]
  },
  {
   "cell_type": "code",
   "execution_count": 14,
   "metadata": {},
   "outputs": [],
   "source": [
    "#Naive bayes model \n",
    "NB_classifier = GaussianNB().fit(x_train,y_train)"
   ]
  },
  {
   "cell_type": "code",
   "execution_count": 15,
   "metadata": {},
   "outputs": [],
   "source": [
    "#Predictions of testcases using  NaiveBayes\n",
    "NB_predictor = NB_classifier.predict(x_test)"
   ]
  },
  {
   "cell_type": "code",
   "execution_count": 16,
   "metadata": {},
   "outputs": [
    {
     "name": "stdout",
     "output_type": "stream",
     "text": [
      "              precision    recall  f1-score   support\n",
      "\n",
      "           0       0.93      0.98      0.96     47405\n",
      "           1       0.72      0.36      0.48      5117\n",
      "\n",
      "   micro avg       0.92      0.92      0.92     52522\n",
      "   macro avg       0.83      0.67      0.72     52522\n",
      "weighted avg       0.91      0.92      0.91     52522\n",
      "\n"
     ]
    }
   ],
   "source": [
    "print(classification_report(y_test,NB_predictor))"
   ]
  },
  {
   "cell_type": "code",
   "execution_count": 18,
   "metadata": {},
   "outputs": [
    {
     "name": "stdout",
     "output_type": "stream",
     "text": [
      "recall = 35.86085597029509\n",
      "precision = 72.04554377699255\n",
      "False Negative Rate = 64.13914402970491\n"
     ]
    }
   ],
   "source": [
    "# build confusion matrix\n",
    "CM = confusion_matrix(y_test,NB_predictor)\n",
    "CM = pd.crosstab(y_test,NB_predictor)\n",
    "\n",
    "#let us save TP, TN, FP, FN\n",
    "TN = CM.iloc[0,0]\n",
    "FN = CM.iloc[1,0]\n",
    "TP = CM.iloc[1,1]\n",
    "FP = CM.iloc[0,1]\n",
    "\n",
    "#check accuracy of model\n",
    "#recall(y_test, y_pred)*100\n",
    "print(\"recall\", \"=\", (TP*100)/(TP+FN))\n",
    "\n",
    "#precision\n",
    "print(\"precision\", \"=\" ,(TP*100)/(TP+FP))\n",
    "\n",
    "#False Neagtive Rate\n",
    "print(\"False Negative Rate\", \"=\" ,(FN*100)/(FN+TP))"
   ]
  },
  {
   "cell_type": "code",
   "execution_count": null,
   "metadata": {},
   "outputs": [],
   "source": [
    "#NAIVE BAYES RESULTS\n",
    "#Accuracy = 92%\n",
    "#recall =  35.86085597029509%\n",
    "#precision =  72.04554377699255%\n",
    "#AUC = 67.08%"
   ]
  },
  {
   "cell_type": "markdown",
   "metadata": {},
   "source": [
    "# RANDOM FOREST CLASSIFIER"
   ]
  },
  {
   "cell_type": "code",
   "execution_count": 17,
   "metadata": {},
   "outputs": [],
   "source": [
    "x_train, x_test, y_train, y_test = train_test_split(santander_data_train.drop('target',axis=1), \n",
    "                                                    santander_data_train['target'] ,test_size=0.30, \n",
    "                                                    random_state=101)"
   ]
  },
  {
   "cell_type": "code",
   "execution_count": 10,
   "metadata": {},
   "outputs": [],
   "source": [
    "#THIS VARIABLE IS OF STRING DATA TYPE AND IT HAS NO USE IN PREDICTING TARGET VALUE\n",
    "santander_data_train = santander_data_train.drop(\"ID_code\" , axis=1)"
   ]
  },
  {
   "cell_type": "code",
   "execution_count": 19,
   "metadata": {},
   "outputs": [],
   "source": [
    "from sklearn.ensemble import RandomForestClassifier\n",
    "rf_classifier = RandomForestClassifier(n_estimators=100)\n",
    "rf_classifier.fit(x_train, y_train)"
   ]
  },
  {
   "cell_type": "code",
   "execution_count": 20,
   "metadata": {},
   "outputs": [],
   "source": [
    "rf_predictions = rf_classifier.predict(x_test)"
   ]
  },
  {
   "cell_type": "code",
   "execution_count": 21,
   "metadata": {},
   "outputs": [],
   "source": [
    "print(classification_report(y_test,rf_predictions))"
   ]
  },
  {
   "cell_type": "code",
   "execution_count": 23,
   "metadata": {},
   "outputs": [
    {
     "name": "stdout",
     "output_type": "stream",
     "text": [
      "recall = 35.86085597029509\n",
      "precision = 72.04554377699255\n",
      "False Negative Rate = 64.13914402970491\n"
     ]
    }
   ],
   "source": [
    "# build confusion matrix\n",
    "CM = confusion_matrix(y_test,rf_predictions)\n",
    "CM = pd.crosstab(y_test,rf_predictions)\n",
    "\n",
    "#let us save TP, TN, FP, FN\n",
    "TN = CM.iloc[0,0]\n",
    "FN = CM.iloc[1,0]\n",
    "TP = CM.iloc[1,1]\n",
    "FP = CM.iloc[0,1]\n",
    "\n",
    "#check accuracy of model\n",
    "#recall(y_test, y_pred)*100\n",
    "print(\"recall\", \"=\", (TP*100)/(TP+FN))\n",
    "\n",
    "#precision\n",
    "print(\"precision\", \"=\" ,(TP*100)/(TP+FP))\n",
    "\n",
    "#False Neagtive Rate\n",
    "print(\"False Negative Rate\", \"=\" ,(FN*100)/(FN+TP))"
   ]
  },
  {
   "cell_type": "code",
   "execution_count": 24,
   "metadata": {},
   "outputs": [
    {
     "data": {
      "text/plain": [
       "0.6717945234966606"
      ]
     },
     "execution_count": 24,
     "metadata": {},
     "output_type": "execute_result"
    }
   ],
   "source": [
    "metrics.roc_auc_score(y_test,NB_predictor)"
   ]
  },
  {
   "cell_type": "raw",
   "metadata": {},
   "source": [
    "#RANDOM FOREST - Results\n",
    "#Accuracy =84%\n",
    "#recall =  18.702364666796953\n",
    "#precision =17.807964272422776\n",
    "#AUC =54.69%\n",
    "#False Negative Rate = 81.29763533320305"
   ]
  },
  {
   "cell_type": "markdown",
   "metadata": {},
   "source": [
    "# SUMMARY"
   ]
  },
  {
   "cell_type": "raw",
   "metadata": {},
   "source": [
    "MODEL RESULTS\n",
    "\n",
    "# LOGISTIC REGRESSION - RESULTS\n",
    "    - Accuracy = 92%\n",
    "    - recall = 26.34356068008599\n",
    "    - precision = 69.05737704918033\n",
    "    - AUC = 62.53%\n",
    "    - False Negative Rate = 73.65643931991401\n",
    "\n",
    "# DECISION TREE - RESULTS\n",
    "    - Accuracy = 84% \n",
    "    - recall = 18.702364666796953 \n",
    "    - precision = 18.807964272422776 \n",
    "    - AUC = 54.81334762548352% \n",
    "    - False Negative Rate = 81.3953488372093\n",
    "\n",
    "# RANDOM FORREST:Results\n",
    "    - n_estimators = 100\n",
    "    - recall = 0.019542700801250732\n",
    "    - precison = 100.0\n",
    "    - AUC = 50%\n",
    "    - accuracy = 90%\n",
    "\n",
    "# NAIVE BAYES:Results\n",
    "    - Accuracy = 92%\n",
    "    - recall =  35.86085597029509%\n",
    "    - precision =  72.04554377699255%\n",
    "    - AUC = 67.08%\n",
    "    \n",
    "# PRECISION CRITERION:\n",
    "    * RF > NAÏVE BAYES > LOGISTIC REGRESSION > DECISION TREE\n",
    "\n",
    "# RECALL CRITERION AS FOLLOW:\n",
    "    * NAÏVE BAYES > LOGISTIC REGRESSION > DECISION TREE > RF\n",
    "\n",
    "# AUC CRITERION AS FOLLOW:\n",
    "    * NAÏVE BAYES > LOGISTIC REGRESSION > DECISION TREE > RF\n",
    "\n",
    "* For the most Accurate Model the value of AUC must be high.\n",
    "\n",
    "* According to the question we have to predict the result based on recall , precision and AUC. \n",
    "\n",
    "* According to the results which were obtained using all four machine learning algorithm we can infer that \"Naive Bayes\" is       giving all the three parameters equally good. In Random Forest precision is high but recal is very low.    \n",
    "\n",
    "* So the accurate Model which can be selected from the results for this Santander problem is Naive Bayes."
   ]
  },
  {
   "cell_type": "markdown",
   "metadata": {},
   "source": [
    "# PREDICT THE TEST DATA TARGET VALUE BY APPLYING THE SELECTED MODEL"
   ]
  },
  {
   "cell_type": "code",
   "execution_count": 19,
   "metadata": {},
   "outputs": [],
   "source": [
    "santander_data_test = pd.read_csv(\"test.csv\")\n"
   ]
  },
  {
   "cell_type": "code",
   "execution_count": 20,
   "metadata": {},
   "outputs": [
    {
     "data": {
      "text/html": [
       "<div>\n",
       "<style scoped>\n",
       "    .dataframe tbody tr th:only-of-type {\n",
       "        vertical-align: middle;\n",
       "    }\n",
       "\n",
       "    .dataframe tbody tr th {\n",
       "        vertical-align: top;\n",
       "    }\n",
       "\n",
       "    .dataframe thead th {\n",
       "        text-align: right;\n",
       "    }\n",
       "</style>\n",
       "<table border=\"1\" class=\"dataframe\">\n",
       "  <thead>\n",
       "    <tr style=\"text-align: right;\">\n",
       "      <th></th>\n",
       "      <th>ID_code</th>\n",
       "      <th>var_0</th>\n",
       "      <th>var_1</th>\n",
       "      <th>var_2</th>\n",
       "      <th>var_3</th>\n",
       "      <th>var_4</th>\n",
       "      <th>var_5</th>\n",
       "      <th>var_6</th>\n",
       "      <th>var_7</th>\n",
       "      <th>var_8</th>\n",
       "      <th>...</th>\n",
       "      <th>var_190</th>\n",
       "      <th>var_191</th>\n",
       "      <th>var_192</th>\n",
       "      <th>var_193</th>\n",
       "      <th>var_194</th>\n",
       "      <th>var_195</th>\n",
       "      <th>var_196</th>\n",
       "      <th>var_197</th>\n",
       "      <th>var_198</th>\n",
       "      <th>var_199</th>\n",
       "    </tr>\n",
       "  </thead>\n",
       "  <tbody>\n",
       "    <tr>\n",
       "      <th>0</th>\n",
       "      <td>test_0</td>\n",
       "      <td>11.0656</td>\n",
       "      <td>7.7798</td>\n",
       "      <td>12.9536</td>\n",
       "      <td>9.4292</td>\n",
       "      <td>11.4327</td>\n",
       "      <td>-2.3805</td>\n",
       "      <td>5.8493</td>\n",
       "      <td>18.2675</td>\n",
       "      <td>2.1337</td>\n",
       "      <td>...</td>\n",
       "      <td>-2.1556</td>\n",
       "      <td>11.8495</td>\n",
       "      <td>-1.4300</td>\n",
       "      <td>2.4508</td>\n",
       "      <td>13.7112</td>\n",
       "      <td>2.4669</td>\n",
       "      <td>4.3654</td>\n",
       "      <td>10.7200</td>\n",
       "      <td>15.4722</td>\n",
       "      <td>-8.7197</td>\n",
       "    </tr>\n",
       "    <tr>\n",
       "      <th>1</th>\n",
       "      <td>test_1</td>\n",
       "      <td>8.5304</td>\n",
       "      <td>1.2543</td>\n",
       "      <td>11.3047</td>\n",
       "      <td>5.1858</td>\n",
       "      <td>9.1974</td>\n",
       "      <td>-4.0117</td>\n",
       "      <td>6.0196</td>\n",
       "      <td>18.6316</td>\n",
       "      <td>-4.4131</td>\n",
       "      <td>...</td>\n",
       "      <td>10.6165</td>\n",
       "      <td>8.8349</td>\n",
       "      <td>0.9403</td>\n",
       "      <td>10.1282</td>\n",
       "      <td>15.5765</td>\n",
       "      <td>0.4773</td>\n",
       "      <td>-1.4852</td>\n",
       "      <td>9.8714</td>\n",
       "      <td>19.1293</td>\n",
       "      <td>-20.9760</td>\n",
       "    </tr>\n",
       "    <tr>\n",
       "      <th>2</th>\n",
       "      <td>test_2</td>\n",
       "      <td>5.4827</td>\n",
       "      <td>-10.3581</td>\n",
       "      <td>10.1407</td>\n",
       "      <td>7.0479</td>\n",
       "      <td>10.2628</td>\n",
       "      <td>9.8052</td>\n",
       "      <td>4.8950</td>\n",
       "      <td>20.2537</td>\n",
       "      <td>1.5233</td>\n",
       "      <td>...</td>\n",
       "      <td>-0.7484</td>\n",
       "      <td>10.9935</td>\n",
       "      <td>1.9803</td>\n",
       "      <td>2.1800</td>\n",
       "      <td>12.9813</td>\n",
       "      <td>2.1281</td>\n",
       "      <td>-7.1086</td>\n",
       "      <td>7.0618</td>\n",
       "      <td>19.8956</td>\n",
       "      <td>-23.1794</td>\n",
       "    </tr>\n",
       "    <tr>\n",
       "      <th>3</th>\n",
       "      <td>test_3</td>\n",
       "      <td>8.5374</td>\n",
       "      <td>-1.3222</td>\n",
       "      <td>12.0220</td>\n",
       "      <td>6.5749</td>\n",
       "      <td>8.8458</td>\n",
       "      <td>3.1744</td>\n",
       "      <td>4.9397</td>\n",
       "      <td>20.5660</td>\n",
       "      <td>3.3755</td>\n",
       "      <td>...</td>\n",
       "      <td>9.5702</td>\n",
       "      <td>9.0766</td>\n",
       "      <td>1.6580</td>\n",
       "      <td>3.5813</td>\n",
       "      <td>15.1874</td>\n",
       "      <td>3.1656</td>\n",
       "      <td>3.9567</td>\n",
       "      <td>9.2295</td>\n",
       "      <td>13.0168</td>\n",
       "      <td>-4.2108</td>\n",
       "    </tr>\n",
       "    <tr>\n",
       "      <th>4</th>\n",
       "      <td>test_4</td>\n",
       "      <td>11.7058</td>\n",
       "      <td>-0.1327</td>\n",
       "      <td>14.1295</td>\n",
       "      <td>7.7506</td>\n",
       "      <td>9.1035</td>\n",
       "      <td>-8.5848</td>\n",
       "      <td>6.8595</td>\n",
       "      <td>10.6048</td>\n",
       "      <td>2.9890</td>\n",
       "      <td>...</td>\n",
       "      <td>4.2259</td>\n",
       "      <td>9.1723</td>\n",
       "      <td>1.2835</td>\n",
       "      <td>3.3778</td>\n",
       "      <td>19.5542</td>\n",
       "      <td>-0.2860</td>\n",
       "      <td>-5.1612</td>\n",
       "      <td>7.2882</td>\n",
       "      <td>13.9260</td>\n",
       "      <td>-9.1846</td>\n",
       "    </tr>\n",
       "  </tbody>\n",
       "</table>\n",
       "<p>5 rows × 201 columns</p>\n",
       "</div>"
      ],
      "text/plain": [
       "  ID_code    var_0    var_1    var_2   var_3    var_4   var_5   var_6  \\\n",
       "0  test_0  11.0656   7.7798  12.9536  9.4292  11.4327 -2.3805  5.8493   \n",
       "1  test_1   8.5304   1.2543  11.3047  5.1858   9.1974 -4.0117  6.0196   \n",
       "2  test_2   5.4827 -10.3581  10.1407  7.0479  10.2628  9.8052  4.8950   \n",
       "3  test_3   8.5374  -1.3222  12.0220  6.5749   8.8458  3.1744  4.9397   \n",
       "4  test_4  11.7058  -0.1327  14.1295  7.7506   9.1035 -8.5848  6.8595   \n",
       "\n",
       "     var_7   var_8  ...  var_190  var_191  var_192  var_193  var_194  var_195  \\\n",
       "0  18.2675  2.1337  ...  -2.1556  11.8495  -1.4300   2.4508  13.7112   2.4669   \n",
       "1  18.6316 -4.4131  ...  10.6165   8.8349   0.9403  10.1282  15.5765   0.4773   \n",
       "2  20.2537  1.5233  ...  -0.7484  10.9935   1.9803   2.1800  12.9813   2.1281   \n",
       "3  20.5660  3.3755  ...   9.5702   9.0766   1.6580   3.5813  15.1874   3.1656   \n",
       "4  10.6048  2.9890  ...   4.2259   9.1723   1.2835   3.3778  19.5542  -0.2860   \n",
       "\n",
       "   var_196  var_197  var_198  var_199  \n",
       "0   4.3654  10.7200  15.4722  -8.7197  \n",
       "1  -1.4852   9.8714  19.1293 -20.9760  \n",
       "2  -7.1086   7.0618  19.8956 -23.1794  \n",
       "3   3.9567   9.2295  13.0168  -4.2108  \n",
       "4  -5.1612   7.2882  13.9260  -9.1846  \n",
       "\n",
       "[5 rows x 201 columns]"
      ]
     },
     "execution_count": 20,
     "metadata": {},
     "output_type": "execute_result"
    }
   ],
   "source": [
    "santander_data_test.head()"
   ]
  },
  {
   "cell_type": "code",
   "execution_count": 21,
   "metadata": {},
   "outputs": [],
   "source": [
    "id_code = santander_data_test.iloc[:,0]"
   ]
  },
  {
   "cell_type": "code",
   "execution_count": 22,
   "metadata": {},
   "outputs": [],
   "source": [
    "#REMOVE ID_code column as it is string datatype and has no use in model predictions.\n",
    "santander_data_test = santander_data_test.drop(\"ID_code\" ,axis=1)"
   ]
  },
  {
   "cell_type": "markdown",
   "metadata": {},
   "source": [
    "# PREDICTING FROM TEST DATASET"
   ]
  },
  {
   "cell_type": "code",
   "execution_count": 23,
   "metadata": {},
   "outputs": [],
   "source": [
    "test_predictions = NB_classifier.predict(santander_data_test)"
   ]
  },
  {
   "cell_type": "code",
   "execution_count": 24,
   "metadata": {},
   "outputs": [
    {
     "data": {
      "text/html": [
       "<div>\n",
       "<style scoped>\n",
       "    .dataframe tbody tr th:only-of-type {\n",
       "        vertical-align: middle;\n",
       "    }\n",
       "\n",
       "    .dataframe tbody tr th {\n",
       "        vertical-align: top;\n",
       "    }\n",
       "\n",
       "    .dataframe thead th {\n",
       "        text-align: right;\n",
       "    }\n",
       "</style>\n",
       "<table border=\"1\" class=\"dataframe\">\n",
       "  <thead>\n",
       "    <tr style=\"text-align: right;\">\n",
       "      <th></th>\n",
       "      <th>ID_code</th>\n",
       "      <th>target</th>\n",
       "    </tr>\n",
       "  </thead>\n",
       "  <tbody>\n",
       "    <tr>\n",
       "      <th>0</th>\n",
       "      <td>test_0</td>\n",
       "      <td>0</td>\n",
       "    </tr>\n",
       "    <tr>\n",
       "      <th>1</th>\n",
       "      <td>test_1</td>\n",
       "      <td>0</td>\n",
       "    </tr>\n",
       "    <tr>\n",
       "      <th>2</th>\n",
       "      <td>test_2</td>\n",
       "      <td>0</td>\n",
       "    </tr>\n",
       "    <tr>\n",
       "      <th>3</th>\n",
       "      <td>test_3</td>\n",
       "      <td>0</td>\n",
       "    </tr>\n",
       "    <tr>\n",
       "      <th>4</th>\n",
       "      <td>test_4</td>\n",
       "      <td>0</td>\n",
       "    </tr>\n",
       "  </tbody>\n",
       "</table>\n",
       "</div>"
      ],
      "text/plain": [
       "  ID_code  target\n",
       "0  test_0       0\n",
       "1  test_1       0\n",
       "2  test_2       0\n",
       "3  test_3       0\n",
       "4  test_4       0"
      ]
     },
     "execution_count": 24,
     "metadata": {},
     "output_type": "execute_result"
    }
   ],
   "source": [
    "prediction_data = pd.DataFrame({\"ID_code\" :id_code ,\"target\": test_predictions})\n",
    "prediction_data.head()"
   ]
  },
  {
   "cell_type": "code",
   "execution_count": 25,
   "metadata": {},
   "outputs": [],
   "source": [
    "#joining id and target column into the test data set\n",
    "santander_data_test = prediction_data.join(santander_data_test)"
   ]
  },
  {
   "cell_type": "code",
   "execution_count": 26,
   "metadata": {},
   "outputs": [
    {
     "data": {
      "text/plain": [
       "(200000, 202)"
      ]
     },
     "execution_count": 26,
     "metadata": {},
     "output_type": "execute_result"
    }
   ],
   "source": [
    "santander_data_test.shape"
   ]
  },
  {
   "cell_type": "code",
   "execution_count": 27,
   "metadata": {},
   "outputs": [
    {
     "data": {
      "text/plain": [
       "<matplotlib.axes._subplots.AxesSubplot at 0x2a768a898d0>"
      ]
     },
     "execution_count": 27,
     "metadata": {},
     "output_type": "execute_result"
    },
    {
     "data": {
      "image/png": "[encoded data removed]",
      "text/plain": [
       "<Figure size 432x288 with 1 Axes>"
      ]
     },
     "metadata": {},
     "output_type": "display_data"
    }
   ],
   "source": [
    "sns.set_style('whitegrid')\n",
    "sns.countplot(x='target',data=santander_data_test,palette='RdBu_r')"
   ]
  },
  {
   "cell_type": "code",
   "execution_count": 28,
   "metadata": {},
   "outputs": [
    {
     "data": {
      "text/plain": [
       "0    192096\n",
       "1      7904\n",
       "Name: target, dtype: int64"
      ]
     },
     "execution_count": 28,
     "metadata": {},
     "output_type": "execute_result"
    }
   ],
   "source": [
    "santander_data_test[\"target\"].value_counts()"
   ]
  },
  {
   "cell_type": "markdown",
   "metadata": {},
   "source": [
    "# CONVERT THE VALUE OF TARGET VARIABLE AS \"make transaction\" for value \"1\" and \"not make transaction\" for value \"0\""
   ]
  },
  {
   "cell_type": "code",
   "execution_count": 29,
   "metadata": {},
   "outputs": [],
   "source": [
    "santander_data_test[\"target\"] = santander_data_test[\"target\"].apply( lambda x: \"make transaction\" if x==1 else \"not make transaction\")"
   ]
  },
  {
   "cell_type": "code",
   "execution_count": 30,
   "metadata": {},
   "outputs": [
    {
     "data": {
      "text/html": [
       "<div>\n",
       "<style scoped>\n",
       "    .dataframe tbody tr th:only-of-type {\n",
       "        vertical-align: middle;\n",
       "    }\n",
       "\n",
       "    .dataframe tbody tr th {\n",
       "        vertical-align: top;\n",
       "    }\n",
       "\n",
       "    .dataframe thead th {\n",
       "        text-align: right;\n",
       "    }\n",
       "</style>\n",
       "<table border=\"1\" class=\"dataframe\">\n",
       "  <thead>\n",
       "    <tr style=\"text-align: right;\">\n",
       "      <th></th>\n",
       "      <th>ID_code</th>\n",
       "      <th>target</th>\n",
       "      <th>var_0</th>\n",
       "      <th>var_1</th>\n",
       "      <th>var_2</th>\n",
       "      <th>var_3</th>\n",
       "      <th>var_4</th>\n",
       "      <th>var_5</th>\n",
       "      <th>var_6</th>\n",
       "      <th>var_7</th>\n",
       "      <th>...</th>\n",
       "      <th>var_190</th>\n",
       "      <th>var_191</th>\n",
       "      <th>var_192</th>\n",
       "      <th>var_193</th>\n",
       "      <th>var_194</th>\n",
       "      <th>var_195</th>\n",
       "      <th>var_196</th>\n",
       "      <th>var_197</th>\n",
       "      <th>var_198</th>\n",
       "      <th>var_199</th>\n",
       "    </tr>\n",
       "  </thead>\n",
       "  <tbody>\n",
       "    <tr>\n",
       "      <th>0</th>\n",
       "      <td>test_0</td>\n",
       "      <td>not make transaction</td>\n",
       "      <td>11.0656</td>\n",
       "      <td>7.7798</td>\n",
       "      <td>12.9536</td>\n",
       "      <td>9.4292</td>\n",
       "      <td>11.4327</td>\n",
       "      <td>-2.3805</td>\n",
       "      <td>5.8493</td>\n",
       "      <td>18.2675</td>\n",
       "      <td>...</td>\n",
       "      <td>-2.1556</td>\n",
       "      <td>11.8495</td>\n",
       "      <td>-1.4300</td>\n",
       "      <td>2.4508</td>\n",
       "      <td>13.7112</td>\n",
       "      <td>2.4669</td>\n",
       "      <td>4.3654</td>\n",
       "      <td>10.7200</td>\n",
       "      <td>15.4722</td>\n",
       "      <td>-8.7197</td>\n",
       "    </tr>\n",
       "    <tr>\n",
       "      <th>1</th>\n",
       "      <td>test_1</td>\n",
       "      <td>not make transaction</td>\n",
       "      <td>8.5304</td>\n",
       "      <td>1.2543</td>\n",
       "      <td>11.3047</td>\n",
       "      <td>5.1858</td>\n",
       "      <td>9.1974</td>\n",
       "      <td>-4.0117</td>\n",
       "      <td>6.0196</td>\n",
       "      <td>18.6316</td>\n",
       "      <td>...</td>\n",
       "      <td>10.6165</td>\n",
       "      <td>8.8349</td>\n",
       "      <td>0.9403</td>\n",
       "      <td>10.1282</td>\n",
       "      <td>15.5765</td>\n",
       "      <td>0.4773</td>\n",
       "      <td>-1.4852</td>\n",
       "      <td>9.8714</td>\n",
       "      <td>19.1293</td>\n",
       "      <td>-20.9760</td>\n",
       "    </tr>\n",
       "    <tr>\n",
       "      <th>2</th>\n",
       "      <td>test_2</td>\n",
       "      <td>not make transaction</td>\n",
       "      <td>5.4827</td>\n",
       "      <td>-10.3581</td>\n",
       "      <td>10.1407</td>\n",
       "      <td>7.0479</td>\n",
       "      <td>10.2628</td>\n",
       "      <td>9.8052</td>\n",
       "      <td>4.8950</td>\n",
       "      <td>20.2537</td>\n",
       "      <td>...</td>\n",
       "      <td>-0.7484</td>\n",
       "      <td>10.9935</td>\n",
       "      <td>1.9803</td>\n",
       "      <td>2.1800</td>\n",
       "      <td>12.9813</td>\n",
       "      <td>2.1281</td>\n",
       "      <td>-7.1086</td>\n",
       "      <td>7.0618</td>\n",
       "      <td>19.8956</td>\n",
       "      <td>-23.1794</td>\n",
       "    </tr>\n",
       "    <tr>\n",
       "      <th>3</th>\n",
       "      <td>test_3</td>\n",
       "      <td>not make transaction</td>\n",
       "      <td>8.5374</td>\n",
       "      <td>-1.3222</td>\n",
       "      <td>12.0220</td>\n",
       "      <td>6.5749</td>\n",
       "      <td>8.8458</td>\n",
       "      <td>3.1744</td>\n",
       "      <td>4.9397</td>\n",
       "      <td>20.5660</td>\n",
       "      <td>...</td>\n",
       "      <td>9.5702</td>\n",
       "      <td>9.0766</td>\n",
       "      <td>1.6580</td>\n",
       "      <td>3.5813</td>\n",
       "      <td>15.1874</td>\n",
       "      <td>3.1656</td>\n",
       "      <td>3.9567</td>\n",
       "      <td>9.2295</td>\n",
       "      <td>13.0168</td>\n",
       "      <td>-4.2108</td>\n",
       "    </tr>\n",
       "    <tr>\n",
       "      <th>4</th>\n",
       "      <td>test_4</td>\n",
       "      <td>not make transaction</td>\n",
       "      <td>11.7058</td>\n",
       "      <td>-0.1327</td>\n",
       "      <td>14.1295</td>\n",
       "      <td>7.7506</td>\n",
       "      <td>9.1035</td>\n",
       "      <td>-8.5848</td>\n",
       "      <td>6.8595</td>\n",
       "      <td>10.6048</td>\n",
       "      <td>...</td>\n",
       "      <td>4.2259</td>\n",
       "      <td>9.1723</td>\n",
       "      <td>1.2835</td>\n",
       "      <td>3.3778</td>\n",
       "      <td>19.5542</td>\n",
       "      <td>-0.2860</td>\n",
       "      <td>-5.1612</td>\n",
       "      <td>7.2882</td>\n",
       "      <td>13.9260</td>\n",
       "      <td>-9.1846</td>\n",
       "    </tr>\n",
       "  </tbody>\n",
       "</table>\n",
       "<p>5 rows × 202 columns</p>\n",
       "</div>"
      ],
      "text/plain": [
       "  ID_code                target    var_0    var_1    var_2   var_3    var_4  \\\n",
       "0  test_0  not make transaction  11.0656   7.7798  12.9536  9.4292  11.4327   \n",
       "1  test_1  not make transaction   8.5304   1.2543  11.3047  5.1858   9.1974   \n",
       "2  test_2  not make transaction   5.4827 -10.3581  10.1407  7.0479  10.2628   \n",
       "3  test_3  not make transaction   8.5374  -1.3222  12.0220  6.5749   8.8458   \n",
       "4  test_4  not make transaction  11.7058  -0.1327  14.1295  7.7506   9.1035   \n",
       "\n",
       "    var_5   var_6    var_7  ...  var_190  var_191  var_192  var_193  var_194  \\\n",
       "0 -2.3805  5.8493  18.2675  ...  -2.1556  11.8495  -1.4300   2.4508  13.7112   \n",
       "1 -4.0117  6.0196  18.6316  ...  10.6165   8.8349   0.9403  10.1282  15.5765   \n",
       "2  9.8052  4.8950  20.2537  ...  -0.7484  10.9935   1.9803   2.1800  12.9813   \n",
       "3  3.1744  4.9397  20.5660  ...   9.5702   9.0766   1.6580   3.5813  15.1874   \n",
       "4 -8.5848  6.8595  10.6048  ...   4.2259   9.1723   1.2835   3.3778  19.5542   \n",
       "\n",
       "   var_195  var_196  var_197  var_198  var_199  \n",
       "0   2.4669   4.3654  10.7200  15.4722  -8.7197  \n",
       "1   0.4773  -1.4852   9.8714  19.1293 -20.9760  \n",
       "2   2.1281  -7.1086   7.0618  19.8956 -23.1794  \n",
       "3   3.1656   3.9567   9.2295  13.0168  -4.2108  \n",
       "4  -0.2860  -5.1612   7.2882  13.9260  -9.1846  \n",
       "\n",
       "[5 rows x 202 columns]"
      ]
     },
     "execution_count": 30,
     "metadata": {},
     "output_type": "execute_result"
    }
   ],
   "source": [
    "santander_data_test.head(5)"
   ]
  },
  {
   "cell_type": "markdown",
   "metadata": {},
   "source": [
    "EXPORT THE FINAL PREDICTION VALUES INTO A FILE \"final_predictions.csv\""
   ]
  },
  {
   "cell_type": "code",
   "execution_count": 31,
   "metadata": {},
   "outputs": [],
   "source": [
    "santander_data_test.to_csv(\"santander_test_result_final.csv\")"
   ]
  },
  {
   "cell_type": "markdown",
   "metadata": {},
   "source": [
    "********************************************************END********************************************************************"
   ]
  }
 ],
 "metadata": {
  "kernelspec": {
   "display_name": "Python 3",
   "language": "python",
   "name": "python3"
  },
  "language_info": {
   "codemirror_mode": {
    "name": "ipython",
    "version": 3
   },
   "file_extension": ".py",
   "mimetype": "text/x-python",
   "name": "python",
   "nbconvert_exporter": "python",
   "pygments_lexer": "ipython3",
   "version": "3.7.3"
  }
 },
 "nbformat": 4,
 "nbformat_minor": 2
}
